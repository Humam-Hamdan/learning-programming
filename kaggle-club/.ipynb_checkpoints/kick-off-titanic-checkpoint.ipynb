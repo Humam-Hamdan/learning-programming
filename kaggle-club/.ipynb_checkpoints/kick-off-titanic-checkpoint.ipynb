{
 "cells": [
  {
   "cell_type": "markdown",
   "id": "02a239f1",
   "metadata": {
    "papermill": {
     "duration": 0.00976,
     "end_time": "2024-10-22T16:15:20.510096",
     "exception": false,
     "start_time": "2024-10-22T16:15:20.500336",
     "status": "completed"
    },
    "tags": []
   },
   "source": [
    "# Laden der Daten"
   ]
  },
  {
   "cell_type": "code",
   "execution_count": 1,
   "id": "8d287bbf",
   "metadata": {
    "_cell_guid": "b1076dfc-b9ad-4769-8c92-a6c4dae69d19",
    "_uuid": "8f2839f25d086af736a60e9eeb907d3b93b6e0e5",
    "execution": {
     "iopub.execute_input": "2024-10-22T16:15:20.531359Z",
     "iopub.status.busy": "2024-10-22T16:15:20.530865Z",
     "iopub.status.idle": "2024-10-22T16:15:21.633522Z",
     "shell.execute_reply": "2024-10-22T16:15:21.632256Z"
    },
    "papermill": {
     "duration": 1.116623,
     "end_time": "2024-10-22T16:15:21.636477",
     "exception": false,
     "start_time": "2024-10-22T16:15:20.519854",
     "status": "completed"
    },
    "tags": []
   },
   "outputs": [
    {
     "name": "stdout",
     "output_type": "stream",
     "text": [
      "/kaggle/input/titanic/train.csv\n",
      "/kaggle/input/titanic/test.csv\n",
      "/kaggle/input/titanic/gender_submission.csv\n"
     ]
    }
   ],
   "source": [
    "# This Python 3 environment comes with many helpful analytics libraries installed\n",
    "# It is defined by the kaggle/python Docker image: https://github.com/kaggle/docker-python\n",
    "# For example, here's several helpful packages to load\n",
    "\n",
    "import numpy as np # linear algebra\n",
    "import pandas as pd # data processing, CSV file I/O (e.g. pd.read_csv)\n",
    "\n",
    "# Input data files are available in the read-only \"../input/\" directory\n",
    "# For example, running this (by clicking run or pressing Shift+Enter) will list all files under the input directory\n",
    "\n",
    "import os\n",
    "for dirname, _, filenames in os.walk('/kaggle/input'):\n",
    "    for filename in filenames:\n",
    "        print(os.path.join(dirname, filename))\n",
    "\n",
    "# You can write up to 20GB to the current directory (/kaggle/working/) that gets preserved as output when you create a version using \"Save & Run All\" \n",
    "# You can also write temporary files to /kaggle/temp/, but they won't be saved outside of the current session"
   ]
  },
  {
   "cell_type": "code",
   "execution_count": 2,
   "id": "a2ac78b2",
   "metadata": {
    "execution": {
     "iopub.execute_input": "2024-10-22T16:15:21.658236Z",
     "iopub.status.busy": "2024-10-22T16:15:21.656773Z",
     "iopub.status.idle": "2024-10-22T16:15:21.736216Z",
     "shell.execute_reply": "2024-10-22T16:15:21.734717Z"
    },
    "papermill": {
     "duration": 0.093477,
     "end_time": "2024-10-22T16:15:21.739299",
     "exception": false,
     "start_time": "2024-10-22T16:15:21.645822",
     "status": "completed"
    },
    "tags": []
   },
   "outputs": [
    {
     "data": {
      "text/html": [
       "<div>\n",
       "<style scoped>\n",
       "    .dataframe tbody tr th:only-of-type {\n",
       "        vertical-align: middle;\n",
       "    }\n",
       "\n",
       "    .dataframe tbody tr th {\n",
       "        vertical-align: top;\n",
       "    }\n",
       "\n",
       "    .dataframe thead th {\n",
       "        text-align: right;\n",
       "    }\n",
       "</style>\n",
       "<table border=\"1\" class=\"dataframe\">\n",
       "  <thead>\n",
       "    <tr style=\"text-align: right;\">\n",
       "      <th></th>\n",
       "      <th>PassengerId</th>\n",
       "      <th>Survived</th>\n",
       "      <th>Pclass</th>\n",
       "      <th>Name</th>\n",
       "      <th>Sex</th>\n",
       "      <th>Age</th>\n",
       "      <th>SibSp</th>\n",
       "      <th>Parch</th>\n",
       "      <th>Ticket</th>\n",
       "      <th>Fare</th>\n",
       "      <th>Cabin</th>\n",
       "      <th>Embarked</th>\n",
       "    </tr>\n",
       "  </thead>\n",
       "  <tbody>\n",
       "    <tr>\n",
       "      <th>0</th>\n",
       "      <td>1</td>\n",
       "      <td>0</td>\n",
       "      <td>3</td>\n",
       "      <td>Braund, Mr. Owen Harris</td>\n",
       "      <td>male</td>\n",
       "      <td>22.0</td>\n",
       "      <td>1</td>\n",
       "      <td>0</td>\n",
       "      <td>A/5 21171</td>\n",
       "      <td>7.2500</td>\n",
       "      <td>NaN</td>\n",
       "      <td>S</td>\n",
       "    </tr>\n",
       "    <tr>\n",
       "      <th>1</th>\n",
       "      <td>2</td>\n",
       "      <td>1</td>\n",
       "      <td>1</td>\n",
       "      <td>Cumings, Mrs. John Bradley (Florence Briggs Th...</td>\n",
       "      <td>female</td>\n",
       "      <td>38.0</td>\n",
       "      <td>1</td>\n",
       "      <td>0</td>\n",
       "      <td>PC 17599</td>\n",
       "      <td>71.2833</td>\n",
       "      <td>C85</td>\n",
       "      <td>C</td>\n",
       "    </tr>\n",
       "    <tr>\n",
       "      <th>2</th>\n",
       "      <td>3</td>\n",
       "      <td>1</td>\n",
       "      <td>3</td>\n",
       "      <td>Heikkinen, Miss. Laina</td>\n",
       "      <td>female</td>\n",
       "      <td>26.0</td>\n",
       "      <td>0</td>\n",
       "      <td>0</td>\n",
       "      <td>STON/O2. 3101282</td>\n",
       "      <td>7.9250</td>\n",
       "      <td>NaN</td>\n",
       "      <td>S</td>\n",
       "    </tr>\n",
       "    <tr>\n",
       "      <th>3</th>\n",
       "      <td>4</td>\n",
       "      <td>1</td>\n",
       "      <td>1</td>\n",
       "      <td>Futrelle, Mrs. Jacques Heath (Lily May Peel)</td>\n",
       "      <td>female</td>\n",
       "      <td>35.0</td>\n",
       "      <td>1</td>\n",
       "      <td>0</td>\n",
       "      <td>113803</td>\n",
       "      <td>53.1000</td>\n",
       "      <td>C123</td>\n",
       "      <td>S</td>\n",
       "    </tr>\n",
       "    <tr>\n",
       "      <th>4</th>\n",
       "      <td>5</td>\n",
       "      <td>0</td>\n",
       "      <td>3</td>\n",
       "      <td>Allen, Mr. William Henry</td>\n",
       "      <td>male</td>\n",
       "      <td>35.0</td>\n",
       "      <td>0</td>\n",
       "      <td>0</td>\n",
       "      <td>373450</td>\n",
       "      <td>8.0500</td>\n",
       "      <td>NaN</td>\n",
       "      <td>S</td>\n",
       "    </tr>\n",
       "    <tr>\n",
       "      <th>5</th>\n",
       "      <td>6</td>\n",
       "      <td>0</td>\n",
       "      <td>3</td>\n",
       "      <td>Moran, Mr. James</td>\n",
       "      <td>male</td>\n",
       "      <td>NaN</td>\n",
       "      <td>0</td>\n",
       "      <td>0</td>\n",
       "      <td>330877</td>\n",
       "      <td>8.4583</td>\n",
       "      <td>NaN</td>\n",
       "      <td>Q</td>\n",
       "    </tr>\n",
       "    <tr>\n",
       "      <th>6</th>\n",
       "      <td>7</td>\n",
       "      <td>0</td>\n",
       "      <td>1</td>\n",
       "      <td>McCarthy, Mr. Timothy J</td>\n",
       "      <td>male</td>\n",
       "      <td>54.0</td>\n",
       "      <td>0</td>\n",
       "      <td>0</td>\n",
       "      <td>17463</td>\n",
       "      <td>51.8625</td>\n",
       "      <td>E46</td>\n",
       "      <td>S</td>\n",
       "    </tr>\n",
       "    <tr>\n",
       "      <th>7</th>\n",
       "      <td>8</td>\n",
       "      <td>0</td>\n",
       "      <td>3</td>\n",
       "      <td>Palsson, Master. Gosta Leonard</td>\n",
       "      <td>male</td>\n",
       "      <td>2.0</td>\n",
       "      <td>3</td>\n",
       "      <td>1</td>\n",
       "      <td>349909</td>\n",
       "      <td>21.0750</td>\n",
       "      <td>NaN</td>\n",
       "      <td>S</td>\n",
       "    </tr>\n",
       "    <tr>\n",
       "      <th>8</th>\n",
       "      <td>9</td>\n",
       "      <td>1</td>\n",
       "      <td>3</td>\n",
       "      <td>Johnson, Mrs. Oscar W (Elisabeth Vilhelmina Berg)</td>\n",
       "      <td>female</td>\n",
       "      <td>27.0</td>\n",
       "      <td>0</td>\n",
       "      <td>2</td>\n",
       "      <td>347742</td>\n",
       "      <td>11.1333</td>\n",
       "      <td>NaN</td>\n",
       "      <td>S</td>\n",
       "    </tr>\n",
       "    <tr>\n",
       "      <th>9</th>\n",
       "      <td>10</td>\n",
       "      <td>1</td>\n",
       "      <td>2</td>\n",
       "      <td>Nasser, Mrs. Nicholas (Adele Achem)</td>\n",
       "      <td>female</td>\n",
       "      <td>14.0</td>\n",
       "      <td>1</td>\n",
       "      <td>0</td>\n",
       "      <td>237736</td>\n",
       "      <td>30.0708</td>\n",
       "      <td>NaN</td>\n",
       "      <td>C</td>\n",
       "    </tr>\n",
       "  </tbody>\n",
       "</table>\n",
       "</div>"
      ],
      "text/plain": [
       "   PassengerId  Survived  Pclass  \\\n",
       "0            1         0       3   \n",
       "1            2         1       1   \n",
       "2            3         1       3   \n",
       "3            4         1       1   \n",
       "4            5         0       3   \n",
       "5            6         0       3   \n",
       "6            7         0       1   \n",
       "7            8         0       3   \n",
       "8            9         1       3   \n",
       "9           10         1       2   \n",
       "\n",
       "                                                Name     Sex   Age  SibSp  \\\n",
       "0                            Braund, Mr. Owen Harris    male  22.0      1   \n",
       "1  Cumings, Mrs. John Bradley (Florence Briggs Th...  female  38.0      1   \n",
       "2                             Heikkinen, Miss. Laina  female  26.0      0   \n",
       "3       Futrelle, Mrs. Jacques Heath (Lily May Peel)  female  35.0      1   \n",
       "4                           Allen, Mr. William Henry    male  35.0      0   \n",
       "5                                   Moran, Mr. James    male   NaN      0   \n",
       "6                            McCarthy, Mr. Timothy J    male  54.0      0   \n",
       "7                     Palsson, Master. Gosta Leonard    male   2.0      3   \n",
       "8  Johnson, Mrs. Oscar W (Elisabeth Vilhelmina Berg)  female  27.0      0   \n",
       "9                Nasser, Mrs. Nicholas (Adele Achem)  female  14.0      1   \n",
       "\n",
       "   Parch            Ticket     Fare Cabin Embarked  \n",
       "0      0         A/5 21171   7.2500   NaN        S  \n",
       "1      0          PC 17599  71.2833   C85        C  \n",
       "2      0  STON/O2. 3101282   7.9250   NaN        S  \n",
       "3      0            113803  53.1000  C123        S  \n",
       "4      0            373450   8.0500   NaN        S  \n",
       "5      0            330877   8.4583   NaN        Q  \n",
       "6      0             17463  51.8625   E46        S  \n",
       "7      1            349909  21.0750   NaN        S  \n",
       "8      2            347742  11.1333   NaN        S  \n",
       "9      0            237736  30.0708   NaN        C  "
      ]
     },
     "execution_count": 2,
     "metadata": {},
     "output_type": "execute_result"
    }
   ],
   "source": [
    "df = pd.read_csv('/kaggle/input/titanic/train.csv')\n",
    "df_test = pd.read_csv('/kaggle/input/titanic/test.csv')\n",
    "df.head(10)\n"
   ]
  },
  {
   "cell_type": "markdown",
   "id": "2173b787",
   "metadata": {
    "papermill": {
     "duration": 0.009748,
     "end_time": "2024-10-22T16:15:21.758998",
     "exception": false,
     "start_time": "2024-10-22T16:15:21.749250",
     "status": "completed"
    },
    "tags": []
   },
   "source": [
    "# Daten Visualisierung"
   ]
  },
  {
   "cell_type": "code",
   "execution_count": 3,
   "id": "b3de2e0b",
   "metadata": {
    "execution": {
     "iopub.execute_input": "2024-10-22T16:15:21.781675Z",
     "iopub.status.busy": "2024-10-22T16:15:21.781145Z",
     "iopub.status.idle": "2024-10-22T16:15:22.167282Z",
     "shell.execute_reply": "2024-10-22T16:15:22.165983Z"
    },
    "papermill": {
     "duration": 0.400943,
     "end_time": "2024-10-22T16:15:22.170270",
     "exception": false,
     "start_time": "2024-10-22T16:15:21.769327",
     "status": "completed"
    },
    "tags": []
   },
   "outputs": [
    {
     "name": "stdout",
     "output_type": "stream",
     "text": [
      "Sex\n",
      "female    0.742038\n",
      "male      0.188908\n",
      "dtype: float64\n"
     ]
    },
    {
     "data": {
      "image/png": "[encoded data removed]",
      "text/plain": [
       "<Figure size 640x480 with 1 Axes>"
      ]
     },
     "metadata": {},
     "output_type": "display_data"
    }
   ],
   "source": [
    "from matplotlib import pyplot as plt\n",
    "\n",
    "total = df.groupby(['Sex']).count()\n",
    "df_gby = df.groupby(['Sex']).sum()\n",
    "rel_df_gby = (df_gby['Survived']/total['PassengerId'])\n",
    "plt.title('Relative Survival Rates by Sex', fontsize=12)\n",
    "print(rel_df_gby)\n",
    "rel_df_gby.plot(kind='bar')\n",
    "plt.show()"
   ]
  },
  {
   "cell_type": "code",
   "execution_count": 4,
   "id": "8a265873",
   "metadata": {
    "execution": {
     "iopub.execute_input": "2024-10-22T16:15:22.193669Z",
     "iopub.status.busy": "2024-10-22T16:15:22.193137Z",
     "iopub.status.idle": "2024-10-22T16:15:22.485813Z",
     "shell.execute_reply": "2024-10-22T16:15:22.484459Z"
    },
    "papermill": {
     "duration": 0.307738,
     "end_time": "2024-10-22T16:15:22.488890",
     "exception": false,
     "start_time": "2024-10-22T16:15:22.181152",
     "status": "completed"
    },
    "tags": []
   },
   "outputs": [
    {
     "name": "stdout",
     "output_type": "stream",
     "text": [
      "Pclass\n",
      "1    0.629630\n",
      "2    0.472826\n",
      "3    0.242363\n",
      "dtype: float64\n"
     ]
    },
    {
     "data": {
      "image/png": "[encoded data removed]",
      "text/plain": [
       "<Figure size 640x480 with 1 Axes>"
      ]
     },
     "metadata": {},
     "output_type": "display_data"
    }
   ],
   "source": [
    "total = df.groupby(['Pclass']).count()     \n",
    "df_gby = df.groupby(['Pclass']).sum()\n",
    "rel_df_gby = (df_gby['Survived']/total['PassengerId'])\n",
    "plt.title('Relative Survival Rates by Pclass', fontsize=12)\n",
    "print(rel_df_gby)\n",
    "rel_df_gby.plot(kind='bar')\n",
    "plt.show()"
   ]
  },
  {
   "cell_type": "code",
   "execution_count": 5,
   "id": "e9129e77",
   "metadata": {
    "execution": {
     "iopub.execute_input": "2024-10-22T16:15:22.513573Z",
     "iopub.status.busy": "2024-10-22T16:15:22.513035Z",
     "iopub.status.idle": "2024-10-22T16:15:22.807962Z",
     "shell.execute_reply": "2024-10-22T16:15:22.806422Z"
    },
    "papermill": {
     "duration": 0.311319,
     "end_time": "2024-10-22T16:15:22.811243",
     "exception": false,
     "start_time": "2024-10-22T16:15:22.499924",
     "status": "completed"
    },
    "tags": []
   },
   "outputs": [
    {
     "name": "stdout",
     "output_type": "stream",
     "text": [
      "Embarked\n",
      "C    0.553571\n",
      "Q    0.389610\n",
      "S    0.336957\n",
      "dtype: float64\n"
     ]
    },
    {
     "data": {
      "image/png": "[encoded data removed]",
      "text/plain": [
       "<Figure size 640x480 with 1 Axes>"
      ]
     },
     "metadata": {},
     "output_type": "display_data"
    }
   ],
   "source": [
    "total = df.groupby(['Embarked']).count()\n",
    "df_gby = df.groupby(['Embarked']).sum()\n",
    "rel_df_gby = (df_gby['Survived']/total['PassengerId'])\n",
    "plt.title('Relative Survival Rates by Embarked', fontsize=12)\n",
    "print(rel_df_gby)\n",
    "rel_df_gby.plot(kind='bar')\n",
    "plt.show()"
   ]
  },
  {
   "cell_type": "markdown",
   "id": "ea9cd125",
   "metadata": {
    "papermill": {
     "duration": 0.011112,
     "end_time": "2024-10-22T16:15:22.834687",
     "exception": false,
     "start_time": "2024-10-22T16:15:22.823575",
     "status": "completed"
    },
    "tags": []
   },
   "source": [
    "# Data Wrangling"
   ]
  },
  {
   "cell_type": "code",
   "execution_count": 6,
   "id": "e30d88f0",
   "metadata": {
    "execution": {
     "iopub.execute_input": "2024-10-22T16:15:22.861328Z",
     "iopub.status.busy": "2024-10-22T16:15:22.860748Z",
     "iopub.status.idle": "2024-10-22T16:15:22.872930Z",
     "shell.execute_reply": "2024-10-22T16:15:22.871514Z"
    },
    "papermill": {
     "duration": 0.030815,
     "end_time": "2024-10-22T16:15:22.877118",
     "exception": false,
     "start_time": "2024-10-22T16:15:22.846303",
     "status": "completed"
    },
    "tags": []
   },
   "outputs": [
    {
     "name": "stdout",
     "output_type": "stream",
     "text": [
      "PassengerId      0\n",
      "Survived         0\n",
      "Pclass           0\n",
      "Name             0\n",
      "Sex              0\n",
      "Age            177\n",
      "SibSp            0\n",
      "Parch            0\n",
      "Ticket           0\n",
      "Fare             0\n",
      "Cabin          687\n",
      "Embarked         2\n",
      "dtype: int64\n",
      "\n",
      "PassengerId      0\n",
      "Pclass           0\n",
      "Name             0\n",
      "Sex              0\n",
      "Age             86\n",
      "SibSp            0\n",
      "Parch            0\n",
      "Ticket           0\n",
      "Fare             1\n",
      "Cabin          327\n",
      "Embarked         0\n",
      "dtype: int64\n"
     ]
    }
   ],
   "source": [
    "print(df.isna().sum())\n",
    "print()\n",
    "print(df_test.isna().sum())"
   ]
  },
  {
   "cell_type": "code",
   "execution_count": 7,
   "id": "0987b010",
   "metadata": {
    "execution": {
     "iopub.execute_input": "2024-10-22T16:15:22.904972Z",
     "iopub.status.busy": "2024-10-22T16:15:22.903875Z",
     "iopub.status.idle": "2024-10-22T16:15:22.994813Z",
     "shell.execute_reply": "2024-10-22T16:15:22.993539Z"
    },
    "papermill": {
     "duration": 0.109357,
     "end_time": "2024-10-22T16:15:22.998484",
     "exception": false,
     "start_time": "2024-10-22T16:15:22.889127",
     "status": "completed"
    },
    "tags": []
   },
   "outputs": [
    {
     "name": "stdout",
     "output_type": "stream",
     "text": [
      "        PassengerId    Survived      Pclass                     Name   Sex  \\\n",
      "count    891.000000  891.000000  891.000000                      891   891   \n",
      "unique          NaN         NaN         NaN                      891     2   \n",
      "top             NaN         NaN         NaN  Braund, Mr. Owen Harris  male   \n",
      "freq            NaN         NaN         NaN                        1   577   \n",
      "mean     446.000000    0.383838    2.308642                      NaN   NaN   \n",
      "std      257.353842    0.486592    0.836071                      NaN   NaN   \n",
      "min        1.000000    0.000000    1.000000                      NaN   NaN   \n",
      "25%      223.500000    0.000000    2.000000                      NaN   NaN   \n",
      "50%      446.000000    0.000000    3.000000                      NaN   NaN   \n",
      "75%      668.500000    1.000000    3.000000                      NaN   NaN   \n",
      "max      891.000000    1.000000    3.000000                      NaN   NaN   \n",
      "\n",
      "               Age       SibSp       Parch  Ticket        Fare    Cabin  \\\n",
      "count   714.000000  891.000000  891.000000     891  891.000000      204   \n",
      "unique         NaN         NaN         NaN     681         NaN      147   \n",
      "top            NaN         NaN         NaN  347082         NaN  B96 B98   \n",
      "freq           NaN         NaN         NaN       7         NaN        4   \n",
      "mean     29.699118    0.523008    0.381594     NaN   32.204208      NaN   \n",
      "std      14.526497    1.102743    0.806057     NaN   49.693429      NaN   \n",
      "min       0.420000    0.000000    0.000000     NaN    0.000000      NaN   \n",
      "25%      20.125000    0.000000    0.000000     NaN    7.910400      NaN   \n",
      "50%      28.000000    0.000000    0.000000     NaN   14.454200      NaN   \n",
      "75%      38.000000    1.000000    0.000000     NaN   31.000000      NaN   \n",
      "max      80.000000    8.000000    6.000000     NaN  512.329200      NaN   \n",
      "\n",
      "       Embarked  \n",
      "count       889  \n",
      "unique        3  \n",
      "top           S  \n",
      "freq        644  \n",
      "mean        NaN  \n",
      "std         NaN  \n",
      "min         NaN  \n",
      "25%         NaN  \n",
      "50%         NaN  \n",
      "75%         NaN  \n",
      "max         NaN  \n",
      "\n",
      "        PassengerId      Pclass              Name   Sex         Age  \\\n",
      "count    418.000000  418.000000               418   418  332.000000   \n",
      "unique          NaN         NaN               418     2         NaN   \n",
      "top             NaN         NaN  Kelly, Mr. James  male         NaN   \n",
      "freq            NaN         NaN                 1   266         NaN   \n",
      "mean    1100.500000    2.265550               NaN   NaN   30.272590   \n",
      "std      120.810458    0.841838               NaN   NaN   14.181209   \n",
      "min      892.000000    1.000000               NaN   NaN    0.170000   \n",
      "25%      996.250000    1.000000               NaN   NaN   21.000000   \n",
      "50%     1100.500000    3.000000               NaN   NaN   27.000000   \n",
      "75%     1204.750000    3.000000               NaN   NaN   39.000000   \n",
      "max     1309.000000    3.000000               NaN   NaN   76.000000   \n",
      "\n",
      "             SibSp       Parch    Ticket        Fare            Cabin Embarked  \n",
      "count   418.000000  418.000000       418  417.000000               91      418  \n",
      "unique         NaN         NaN       363         NaN               76        3  \n",
      "top            NaN         NaN  PC 17608         NaN  B57 B59 B63 B66        S  \n",
      "freq           NaN         NaN         5         NaN                3      270  \n",
      "mean      0.447368    0.392344       NaN   35.627188              NaN      NaN  \n",
      "std       0.896760    0.981429       NaN   55.907576              NaN      NaN  \n",
      "min       0.000000    0.000000       NaN    0.000000              NaN      NaN  \n",
      "25%       0.000000    0.000000       NaN    7.895800              NaN      NaN  \n",
      "50%       0.000000    0.000000       NaN   14.454200              NaN      NaN  \n",
      "75%       1.000000    0.000000       NaN   31.500000              NaN      NaN  \n",
      "max       8.000000    9.000000       NaN  512.329200              NaN      NaN  \n"
     ]
    }
   ],
   "source": [
    "print(df.describe(include='all'))\n",
    "print()\n",
    "print(df_test.describe(include='all'))"
   ]
  },
  {
   "cell_type": "code",
   "execution_count": 8,
   "id": "03180679",
   "metadata": {
    "execution": {
     "iopub.execute_input": "2024-10-22T16:15:23.027021Z",
     "iopub.status.busy": "2024-10-22T16:15:23.025664Z",
     "iopub.status.idle": "2024-10-22T16:15:23.051413Z",
     "shell.execute_reply": "2024-10-22T16:15:23.050012Z"
    },
    "papermill": {
     "duration": 0.044104,
     "end_time": "2024-10-22T16:15:23.056063",
     "exception": false,
     "start_time": "2024-10-22T16:15:23.011959",
     "status": "completed"
    },
    "tags": []
   },
   "outputs": [
    {
     "name": "stdout",
     "output_type": "stream",
     "text": [
      "   PassengerId  Survived  Pclass  \\\n",
      "0            1         0       3   \n",
      "1            2         1       1   \n",
      "2            3         1       3   \n",
      "3            4         1       1   \n",
      "4            5         0       3   \n",
      "\n",
      "                                                Name     Sex   Age  SibSp  \\\n",
      "0                            Braund, Mr. Owen Harris    male  22.0      1   \n",
      "1  Cumings, Mrs. John Bradley (Florence Briggs Th...  female  38.0      1   \n",
      "2                             Heikkinen, Miss. Laina  female  26.0      0   \n",
      "3       Futrelle, Mrs. Jacques Heath (Lily May Peel)  female  35.0      1   \n",
      "4                           Allen, Mr. William Henry    male  35.0      0   \n",
      "\n",
      "   Parch            Ticket     Fare Cabin Embarked  \n",
      "0      0         A/5 21171   7.2500   NaN        S  \n",
      "1      0          PC 17599  71.2833   C85        C  \n",
      "2      0  STON/O2. 3101282   7.9250   NaN        S  \n",
      "3      0            113803  53.1000  C123        S  \n",
      "4      0            373450   8.0500   NaN        S  \n",
      "   PassengerId  Pclass                                          Name     Sex  \\\n",
      "0          892       3                              Kelly, Mr. James    male   \n",
      "1          893       3              Wilkes, Mrs. James (Ellen Needs)  female   \n",
      "2          894       2                     Myles, Mr. Thomas Francis    male   \n",
      "3          895       3                              Wirz, Mr. Albert    male   \n",
      "4          896       3  Hirvonen, Mrs. Alexander (Helga E Lindqvist)  female   \n",
      "\n",
      "    Age  SibSp  Parch   Ticket     Fare Cabin Embarked  \n",
      "0  34.5      0      0   330911   7.8292     0        Q  \n",
      "1  47.0      1      0   363272   7.0000     0        S  \n",
      "2  62.0      0      0   240276   9.6875     0        Q  \n",
      "3  27.0      0      0   315154   8.6625     0        S  \n",
      "4  22.0      1      1  3101298  12.2875     0        S  \n"
     ]
    }
   ],
   "source": [
    "df.dropna(subset=['Age'], inplace=True)\n",
    "print(df.head())\n",
    "df_test = df_test.fillna(0)\n",
    "print(df_test.head())"
   ]
  },
  {
   "cell_type": "code",
   "execution_count": 9,
   "id": "927bff75",
   "metadata": {
    "execution": {
     "iopub.execute_input": "2024-10-22T16:15:23.084911Z",
     "iopub.status.busy": "2024-10-22T16:15:23.084398Z",
     "iopub.status.idle": "2024-10-22T16:15:23.105930Z",
     "shell.execute_reply": "2024-10-22T16:15:23.104577Z"
    },
    "papermill": {
     "duration": 0.039671,
     "end_time": "2024-10-22T16:15:23.109233",
     "exception": false,
     "start_time": "2024-10-22T16:15:23.069562",
     "status": "completed"
    },
    "tags": []
   },
   "outputs": [
    {
     "name": "stdout",
     "output_type": "stream",
     "text": [
      "   PassengerId  Pclass     Sex   Age  SibSp  Parch     Fare\n",
      "0            1       3    male  22.0      1      0   7.2500\n",
      "1            2       1  female  38.0      1      0  71.2833\n",
      "2            3       3  female  26.0      0      0   7.9250\n",
      "3            4       1  female  35.0      1      0  53.1000\n",
      "4            5       3    male  35.0      0      0   8.0500\n",
      "   PassengerId  Pclass     Sex   Age  SibSp  Parch     Fare\n",
      "0          892       3    male  34.5      0      0   7.8292\n",
      "1          893       3  female  47.0      1      0   7.0000\n",
      "2          894       2    male  62.0      0      0   9.6875\n",
      "3          895       3    male  27.0      0      0   8.6625\n",
      "4          896       3  female  22.0      1      1  12.2875\n"
     ]
    }
   ],
   "source": [
    "y_train_data = df['Survived']\n",
    "features = df.drop(columns=['Cabin', 'Embarked', 'Ticket', 'Name', 'Survived'])\n",
    "print(features.head())\n",
    "features_test = df_test.drop(columns=['Cabin', 'Embarked', 'Ticket', 'Name'])\n",
    "print(features_test.head())"
   ]
  },
  {
   "cell_type": "code",
   "execution_count": 10,
   "id": "ed3fe579",
   "metadata": {
    "execution": {
     "iopub.execute_input": "2024-10-22T16:15:23.136006Z",
     "iopub.status.busy": "2024-10-22T16:15:23.135466Z",
     "iopub.status.idle": "2024-10-22T16:15:23.155307Z",
     "shell.execute_reply": "2024-10-22T16:15:23.153898Z"
    },
    "papermill": {
     "duration": 0.037243,
     "end_time": "2024-10-22T16:15:23.158679",
     "exception": false,
     "start_time": "2024-10-22T16:15:23.121436",
     "status": "completed"
    },
    "tags": []
   },
   "outputs": [
    {
     "name": "stdout",
     "output_type": "stream",
     "text": [
      "   PassengerId  Pclass   Age  SibSp  Parch     Fare  Sex_female  Sex_male\n",
      "0            1       3  22.0      1      0   7.2500       False      True\n",
      "1            2       1  38.0      1      0  71.2833        True     False\n",
      "2            3       3  26.0      0      0   7.9250        True     False\n",
      "3            4       1  35.0      1      0  53.1000        True     False\n",
      "4            5       3  35.0      0      0   8.0500       False      True\n"
     ]
    }
   ],
   "source": [
    "X_train_data = pd.get_dummies(features)\n",
    "X_test = pd.get_dummies(features_test)\n",
    "print(X_train_data.head())"
   ]
  },
  {
   "cell_type": "markdown",
   "id": "853aaa80",
   "metadata": {
    "papermill": {
     "duration": 0.011789,
     "end_time": "2024-10-22T16:15:23.182721",
     "exception": false,
     "start_time": "2024-10-22T16:15:23.170932",
     "status": "completed"
    },
    "tags": []
   },
   "source": [
    "# Modeling ML Model"
   ]
  },
  {
   "cell_type": "code",
   "execution_count": 11,
   "id": "6ed01d38",
   "metadata": {
    "execution": {
     "iopub.execute_input": "2024-10-22T16:15:23.210424Z",
     "iopub.status.busy": "2024-10-22T16:15:23.209413Z",
     "iopub.status.idle": "2024-10-22T16:15:25.165456Z",
     "shell.execute_reply": "2024-10-22T16:15:25.164151Z"
    },
    "papermill": {
     "duration": 1.973511,
     "end_time": "2024-10-22T16:15:25.169086",
     "exception": false,
     "start_time": "2024-10-22T16:15:23.195575",
     "status": "completed"
    },
    "tags": []
   },
   "outputs": [],
   "source": [
    "from sklearn.preprocessing import StandardScaler\n",
    "from sklearn.pipeline import Pipeline\n",
    "from sklearn.linear_model import LogisticRegression\n",
    "from sklearn.ensemble import RandomForestClassifier\n",
    "from sklearn.metrics import accuracy_score\n",
    "from sklearn.model_selection import train_test_split"
   ]
  },
  {
   "cell_type": "code",
   "execution_count": 12,
   "id": "6c1c34a9",
   "metadata": {
    "execution": {
     "iopub.execute_input": "2024-10-22T16:15:25.196132Z",
     "iopub.status.busy": "2024-10-22T16:15:25.195599Z",
     "iopub.status.idle": "2024-10-22T16:15:25.207524Z",
     "shell.execute_reply": "2024-10-22T16:15:25.206151Z"
    },
    "papermill": {
     "duration": 0.028985,
     "end_time": "2024-10-22T16:15:25.210314",
     "exception": false,
     "start_time": "2024-10-22T16:15:25.181329",
     "status": "completed"
    },
    "tags": []
   },
   "outputs": [
    {
     "name": "stdout",
     "output_type": "stream",
     "text": [
      "Train split:  (571, 8) (571,)\n",
      "Val split:  (143, 8) (143,)\n"
     ]
    }
   ],
   "source": [
    "X_train, X_val, y_train, y_val = train_test_split(X_train_data, y_train_data, test_size=0.2)\n",
    "print('Train split: ',X_train.shape, y_train.shape)\n",
    "print('Val split: ',X_val.shape, y_val.shape)"
   ]
  },
  {
   "cell_type": "markdown",
   "id": "107c15db",
   "metadata": {
    "papermill": {
     "duration": 0.011754,
     "end_time": "2024-10-22T16:15:25.234845",
     "exception": false,
     "start_time": "2024-10-22T16:15:25.223091",
     "status": "completed"
    },
    "tags": []
   },
   "source": [
    "## Logistische Regression"
   ]
  },
  {
   "cell_type": "code",
   "execution_count": 13,
   "id": "a643e6c9",
   "metadata": {
    "execution": {
     "iopub.execute_input": "2024-10-22T16:15:25.262163Z",
     "iopub.status.busy": "2024-10-22T16:15:25.261625Z",
     "iopub.status.idle": "2024-10-22T16:15:25.280590Z",
     "shell.execute_reply": "2024-10-22T16:15:25.279220Z"
    },
    "papermill": {
     "duration": 0.036375,
     "end_time": "2024-10-22T16:15:25.283825",
     "exception": false,
     "start_time": "2024-10-22T16:15:25.247450",
     "status": "completed"
    },
    "tags": []
   },
   "outputs": [
    {
     "data": {
      "text/html": [
       "<style>#sk-container-id-1 {color: black;background-color: white;}#sk-container-id-1 pre{padding: 0;}#sk-container-id-1 div.sk-toggleable {background-color: white;}#sk-container-id-1 label.sk-toggleable__label {cursor: pointer;display: block;width: 100%;margin-bottom: 0;padding: 0.3em;box-sizing: border-box;text-align: center;}#sk-container-id-1 label.sk-toggleable__label-arrow:before {content: \"▸\";float: left;margin-right: 0.25em;color: #696969;}#sk-container-id-1 label.sk-toggleable__label-arrow:hover:before {color: black;}#sk-container-id-1 div.sk-estimator:hover label.sk-toggleable__label-arrow:before {color: black;}#sk-container-id-1 div.sk-toggleable__content {max-height: 0;max-width: 0;overflow: hidden;text-align: left;background-color: #f0f8ff;}#sk-container-id-1 div.sk-toggleable__content pre {margin: 0.2em;color: black;border-radius: 0.25em;background-color: #f0f8ff;}#sk-container-id-1 input.sk-toggleable__control:checked~div.sk-toggleable__content {max-height: 200px;max-width: 100%;overflow: auto;}#sk-container-id-1 input.sk-toggleable__control:checked~label.sk-toggleable__label-arrow:before {content: \"▾\";}#sk-container-id-1 div.sk-estimator input.sk-toggleable__control:checked~label.sk-toggleable__label {background-color: #d4ebff;}#sk-container-id-1 div.sk-label input.sk-toggleable__control:checked~label.sk-toggleable__label {background-color: #d4ebff;}#sk-container-id-1 input.sk-hidden--visually {border: 0;clip: rect(1px 1px 1px 1px);clip: rect(1px, 1px, 1px, 1px);height: 1px;margin: -1px;overflow: hidden;padding: 0;position: absolute;width: 1px;}#sk-container-id-1 div.sk-estimator {font-family: monospace;background-color: #f0f8ff;border: 1px dotted black;border-radius: 0.25em;box-sizing: border-box;margin-bottom: 0.5em;}#sk-container-id-1 div.sk-estimator:hover {background-color: #d4ebff;}#sk-container-id-1 div.sk-parallel-item::after {content: \"\";width: 100%;border-bottom: 1px solid gray;flex-grow: 1;}#sk-container-id-1 div.sk-label:hover label.sk-toggleable__label {background-color: #d4ebff;}#sk-container-id-1 div.sk-serial::before {content: \"\";position: absolute;border-left: 1px solid gray;box-sizing: border-box;top: 0;bottom: 0;left: 50%;z-index: 0;}#sk-container-id-1 div.sk-serial {display: flex;flex-direction: column;align-items: center;background-color: white;padding-right: 0.2em;padding-left: 0.2em;position: relative;}#sk-container-id-1 div.sk-item {position: relative;z-index: 1;}#sk-container-id-1 div.sk-parallel {display: flex;align-items: stretch;justify-content: center;background-color: white;position: relative;}#sk-container-id-1 div.sk-item::before, #sk-container-id-1 div.sk-parallel-item::before {content: \"\";position: absolute;border-left: 1px solid gray;box-sizing: border-box;top: 0;bottom: 0;left: 50%;z-index: -1;}#sk-container-id-1 div.sk-parallel-item {display: flex;flex-direction: column;z-index: 1;position: relative;background-color: white;}#sk-container-id-1 div.sk-parallel-item:first-child::after {align-self: flex-end;width: 50%;}#sk-container-id-1 div.sk-parallel-item:last-child::after {align-self: flex-start;width: 50%;}#sk-container-id-1 div.sk-parallel-item:only-child::after {width: 0;}#sk-container-id-1 div.sk-dashed-wrapped {border: 1px dashed gray;margin: 0 0.4em 0.5em 0.4em;box-sizing: border-box;padding-bottom: 0.4em;background-color: white;}#sk-container-id-1 div.sk-label label {font-family: monospace;font-weight: bold;display: inline-block;line-height: 1.2em;}#sk-container-id-1 div.sk-label-container {text-align: center;}#sk-container-id-1 div.sk-container {/* jupyter's `normalize.less` sets `[hidden] { display: none; }` but bootstrap.min.css set `[hidden] { display: none !important; }` so we also need the `!important` here to be able to override the default hidden behavior on the sphinx rendered scikit-learn.org. See: https://github.com/scikit-learn/scikit-learn/issues/21755 */display: inline-block !important;position: relative;}#sk-container-id-1 div.sk-text-repr-fallback {display: none;}</style><div id=\"sk-container-id-1\" class=\"sk-top-container\"><div class=\"sk-text-repr-fallback\"><pre>Pipeline(steps=[(&#x27;scaler&#x27;, StandardScaler()),\n",
       "                (&#x27;model&#x27;, LogisticRegression(random_state=42))])</pre><b>In a Jupyter environment, please rerun this cell to show the HTML representation or trust the notebook. <br />On GitHub, the HTML representation is unable to render, please try loading this page with nbviewer.org.</b></div><div class=\"sk-container\" hidden><div class=\"sk-item sk-dashed-wrapped\"><div class=\"sk-label-container\"><div class=\"sk-label sk-toggleable\"><input class=\"sk-toggleable__control sk-hidden--visually\" id=\"sk-estimator-id-1\" type=\"checkbox\" ><label for=\"sk-estimator-id-1\" class=\"sk-toggleable__label sk-toggleable__label-arrow\">Pipeline</label><div class=\"sk-toggleable__content\"><pre>Pipeline(steps=[(&#x27;scaler&#x27;, StandardScaler()),\n",
       "                (&#x27;model&#x27;, LogisticRegression(random_state=42))])</pre></div></div></div><div class=\"sk-serial\"><div class=\"sk-item\"><div class=\"sk-estimator sk-toggleable\"><input class=\"sk-toggleable__control sk-hidden--visually\" id=\"sk-estimator-id-2\" type=\"checkbox\" ><label for=\"sk-estimator-id-2\" class=\"sk-toggleable__label sk-toggleable__label-arrow\">StandardScaler</label><div class=\"sk-toggleable__content\"><pre>StandardScaler()</pre></div></div></div><div class=\"sk-item\"><div class=\"sk-estimator sk-toggleable\"><input class=\"sk-toggleable__control sk-hidden--visually\" id=\"sk-estimator-id-3\" type=\"checkbox\" ><label for=\"sk-estimator-id-3\" class=\"sk-toggleable__label sk-toggleable__label-arrow\">LogisticRegression</label><div class=\"sk-toggleable__content\"><pre>LogisticRegression(random_state=42)</pre></div></div></div></div></div></div></div>"
      ],
      "text/plain": [
       "Pipeline(steps=[('scaler', StandardScaler()),\n",
       "                ('model', LogisticRegression(random_state=42))])"
      ]
     },
     "execution_count": 13,
     "metadata": {},
     "output_type": "execute_result"
    }
   ],
   "source": [
    "pipe_lreg = Pipeline([('scaler', StandardScaler()), ('model', LogisticRegression(random_state=42))])\n",
    "pipe_lreg"
   ]
  },
  {
   "cell_type": "code",
   "execution_count": 14,
   "id": "c04166f4",
   "metadata": {
    "execution": {
     "iopub.execute_input": "2024-10-22T16:15:25.312309Z",
     "iopub.status.busy": "2024-10-22T16:15:25.311367Z",
     "iopub.status.idle": "2024-10-22T16:15:25.342754Z",
     "shell.execute_reply": "2024-10-22T16:15:25.341215Z"
    },
    "papermill": {
     "duration": 0.049721,
     "end_time": "2024-10-22T16:15:25.346022",
     "exception": false,
     "start_time": "2024-10-22T16:15:25.296301",
     "status": "completed"
    },
    "tags": []
   },
   "outputs": [
    {
     "name": "stdout",
     "output_type": "stream",
     "text": [
      "Accuracy:  0.7832167832167832\n"
     ]
    }
   ],
   "source": [
    "pipe_lreg.fit(X_train,y_train)\n",
    "y_p = pipe_lreg.predict(X_val)\n",
    "score = accuracy_score(y_val, y_p)\n",
    "print('Accuracy: ', score)"
   ]
  },
  {
   "cell_type": "code",
   "execution_count": 15,
   "id": "e4a60349",
   "metadata": {
    "execution": {
     "iopub.execute_input": "2024-10-22T16:15:25.373927Z",
     "iopub.status.busy": "2024-10-22T16:15:25.373426Z",
     "iopub.status.idle": "2024-10-22T16:15:25.680502Z",
     "shell.execute_reply": "2024-10-22T16:15:25.679019Z"
    },
    "papermill": {
     "duration": 0.324797,
     "end_time": "2024-10-22T16:15:25.683622",
     "exception": false,
     "start_time": "2024-10-22T16:15:25.358825",
     "status": "completed"
    },
    "tags": []
   },
   "outputs": [
    {
     "data": {
      "image/png": "[encoded data removed]",
      "text/plain": [
       "<Figure size 640x480 with 2 Axes>"
      ]
     },
     "metadata": {},
     "output_type": "display_data"
    }
   ],
   "source": [
    "from sklearn.metrics import confusion_matrix, ConfusionMatrixDisplay, accuracy_score, precision_score, recall_score, f1_score\n",
    "import matplotlib.pyplot as plt\n",
    "\n",
    "cm = confusion_matrix(y_val, y_p, labels=[0, 1])\n",
    "cm_normalized = cm / cm.astype('float').sum(axis=1, keepdims=True)\n",
    "disp = ConfusionMatrixDisplay(confusion_matrix=cm_normalized, display_labels=['drowned', 'survived'])\n",
    "disp.plot(cmap='Blues')\n",
    "\n",
    "accuracy = accuracy_score(y_val, y_p)\n",
    "precision = precision_score(y_val, y_p)\n",
    "recall = recall_score(y_val, y_p)\n",
    "f1 = f1_score(y_val, y_p)\n",
    "\n",
    "metrics_text = f\"Accuracy: {accuracy:.3f}\\nPrecision: {precision:.3f}\\nRecall: {recall:.3f}\\nF1 Score: {f1:.3f}\"\n",
    "\n",
    "\n",
    "plt.gca().text(2.0, 0.5, metrics_text, fontsize=12, verticalalignment='center', bbox=dict(facecolor='white', alpha=0.8))\n",
    "plt.show()"
   ]
  },
  {
   "cell_type": "markdown",
   "id": "64c1b5a1",
   "metadata": {
    "papermill": {
     "duration": 0.012864,
     "end_time": "2024-10-22T16:15:25.710325",
     "exception": false,
     "start_time": "2024-10-22T16:15:25.697461",
     "status": "completed"
    },
    "tags": []
   },
   "source": [
    "## Random Forest"
   ]
  },
  {
   "cell_type": "code",
   "execution_count": 16,
   "id": "cb67da44",
   "metadata": {
    "execution": {
     "iopub.execute_input": "2024-10-22T16:15:25.739733Z",
     "iopub.status.busy": "2024-10-22T16:15:25.738685Z",
     "iopub.status.idle": "2024-10-22T16:15:25.754470Z",
     "shell.execute_reply": "2024-10-22T16:15:25.753247Z"
    },
    "papermill": {
     "duration": 0.033752,
     "end_time": "2024-10-22T16:15:25.757408",
     "exception": false,
     "start_time": "2024-10-22T16:15:25.723656",
     "status": "completed"
    },
    "tags": []
   },
   "outputs": [
    {
     "data": {
      "text/html": [
       "<style>#sk-container-id-2 {color: black;background-color: white;}#sk-container-id-2 pre{padding: 0;}#sk-container-id-2 div.sk-toggleable {background-color: white;}#sk-container-id-2 label.sk-toggleable__label {cursor: pointer;display: block;width: 100%;margin-bottom: 0;padding: 0.3em;box-sizing: border-box;text-align: center;}#sk-container-id-2 label.sk-toggleable__label-arrow:before {content: \"▸\";float: left;margin-right: 0.25em;color: #696969;}#sk-container-id-2 label.sk-toggleable__label-arrow:hover:before {color: black;}#sk-container-id-2 div.sk-estimator:hover label.sk-toggleable__label-arrow:before {color: black;}#sk-container-id-2 div.sk-toggleable__content {max-height: 0;max-width: 0;overflow: hidden;text-align: left;background-color: #f0f8ff;}#sk-container-id-2 div.sk-toggleable__content pre {margin: 0.2em;color: black;border-radius: 0.25em;background-color: #f0f8ff;}#sk-container-id-2 input.sk-toggleable__control:checked~div.sk-toggleable__content {max-height: 200px;max-width: 100%;overflow: auto;}#sk-container-id-2 input.sk-toggleable__control:checked~label.sk-toggleable__label-arrow:before {content: \"▾\";}#sk-container-id-2 div.sk-estimator input.sk-toggleable__control:checked~label.sk-toggleable__label {background-color: #d4ebff;}#sk-container-id-2 div.sk-label input.sk-toggleable__control:checked~label.sk-toggleable__label {background-color: #d4ebff;}#sk-container-id-2 input.sk-hidden--visually {border: 0;clip: rect(1px 1px 1px 1px);clip: rect(1px, 1px, 1px, 1px);height: 1px;margin: -1px;overflow: hidden;padding: 0;position: absolute;width: 1px;}#sk-container-id-2 div.sk-estimator {font-family: monospace;background-color: #f0f8ff;border: 1px dotted black;border-radius: 0.25em;box-sizing: border-box;margin-bottom: 0.5em;}#sk-container-id-2 div.sk-estimator:hover {background-color: #d4ebff;}#sk-container-id-2 div.sk-parallel-item::after {content: \"\";width: 100%;border-bottom: 1px solid gray;flex-grow: 1;}#sk-container-id-2 div.sk-label:hover label.sk-toggleable__label {background-color: #d4ebff;}#sk-container-id-2 div.sk-serial::before {content: \"\";position: absolute;border-left: 1px solid gray;box-sizing: border-box;top: 0;bottom: 0;left: 50%;z-index: 0;}#sk-container-id-2 div.sk-serial {display: flex;flex-direction: column;align-items: center;background-color: white;padding-right: 0.2em;padding-left: 0.2em;position: relative;}#sk-container-id-2 div.sk-item {position: relative;z-index: 1;}#sk-container-id-2 div.sk-parallel {display: flex;align-items: stretch;justify-content: center;background-color: white;position: relative;}#sk-container-id-2 div.sk-item::before, #sk-container-id-2 div.sk-parallel-item::before {content: \"\";position: absolute;border-left: 1px solid gray;box-sizing: border-box;top: 0;bottom: 0;left: 50%;z-index: -1;}#sk-container-id-2 div.sk-parallel-item {display: flex;flex-direction: column;z-index: 1;position: relative;background-color: white;}#sk-container-id-2 div.sk-parallel-item:first-child::after {align-self: flex-end;width: 50%;}#sk-container-id-2 div.sk-parallel-item:last-child::after {align-self: flex-start;width: 50%;}#sk-container-id-2 div.sk-parallel-item:only-child::after {width: 0;}#sk-container-id-2 div.sk-dashed-wrapped {border: 1px dashed gray;margin: 0 0.4em 0.5em 0.4em;box-sizing: border-box;padding-bottom: 0.4em;background-color: white;}#sk-container-id-2 div.sk-label label {font-family: monospace;font-weight: bold;display: inline-block;line-height: 1.2em;}#sk-container-id-2 div.sk-label-container {text-align: center;}#sk-container-id-2 div.sk-container {/* jupyter's `normalize.less` sets `[hidden] { display: none; }` but bootstrap.min.css set `[hidden] { display: none !important; }` so we also need the `!important` here to be able to override the default hidden behavior on the sphinx rendered scikit-learn.org. See: https://github.com/scikit-learn/scikit-learn/issues/21755 */display: inline-block !important;position: relative;}#sk-container-id-2 div.sk-text-repr-fallback {display: none;}</style><div id=\"sk-container-id-2\" class=\"sk-top-container\"><div class=\"sk-text-repr-fallback\"><pre>Pipeline(steps=[(&#x27;model&#x27;,\n",
       "                 RandomForestClassifier(max_depth=5, random_state=42))])</pre><b>In a Jupyter environment, please rerun this cell to show the HTML representation or trust the notebook. <br />On GitHub, the HTML representation is unable to render, please try loading this page with nbviewer.org.</b></div><div class=\"sk-container\" hidden><div class=\"sk-item sk-dashed-wrapped\"><div class=\"sk-label-container\"><div class=\"sk-label sk-toggleable\"><input class=\"sk-toggleable__control sk-hidden--visually\" id=\"sk-estimator-id-4\" type=\"checkbox\" ><label for=\"sk-estimator-id-4\" class=\"sk-toggleable__label sk-toggleable__label-arrow\">Pipeline</label><div class=\"sk-toggleable__content\"><pre>Pipeline(steps=[(&#x27;model&#x27;,\n",
       "                 RandomForestClassifier(max_depth=5, random_state=42))])</pre></div></div></div><div class=\"sk-serial\"><div class=\"sk-item\"><div class=\"sk-estimator sk-toggleable\"><input class=\"sk-toggleable__control sk-hidden--visually\" id=\"sk-estimator-id-5\" type=\"checkbox\" ><label for=\"sk-estimator-id-5\" class=\"sk-toggleable__label sk-toggleable__label-arrow\">RandomForestClassifier</label><div class=\"sk-toggleable__content\"><pre>RandomForestClassifier(max_depth=5, random_state=42)</pre></div></div></div></div></div></div></div>"
      ],
      "text/plain": [
       "Pipeline(steps=[('model',\n",
       "                 RandomForestClassifier(max_depth=5, random_state=42))])"
      ]
     },
     "execution_count": 16,
     "metadata": {},
     "output_type": "execute_result"
    }
   ],
   "source": [
    "pipe_forest = Pipeline(steps=[\n",
    "    ('model', RandomForestClassifier(n_estimators=100, max_depth=5, random_state=42))\n",
    "])\n",
    "pipe_forest"
   ]
  },
  {
   "cell_type": "code",
   "execution_count": 17,
   "id": "265e304b",
   "metadata": {
    "execution": {
     "iopub.execute_input": "2024-10-22T16:15:25.787153Z",
     "iopub.status.busy": "2024-10-22T16:15:25.786581Z",
     "iopub.status.idle": "2024-10-22T16:15:26.058861Z",
     "shell.execute_reply": "2024-10-22T16:15:26.057484Z"
    },
    "papermill": {
     "duration": 0.290932,
     "end_time": "2024-10-22T16:15:26.061926",
     "exception": false,
     "start_time": "2024-10-22T16:15:25.770994",
     "status": "completed"
    },
    "tags": []
   },
   "outputs": [
    {
     "name": "stdout",
     "output_type": "stream",
     "text": [
      "Accuracy:  0.7972027972027972\n"
     ]
    }
   ],
   "source": [
    "pipe_forest.fit(X_train,y_train)\n",
    "y_p = pipe_forest.predict(X_val)\n",
    "score = accuracy_score(y_val, y_p)\n",
    "print('Accuracy: ', score)"
   ]
  },
  {
   "cell_type": "code",
   "execution_count": 18,
   "id": "8ed1b806",
   "metadata": {
    "execution": {
     "iopub.execute_input": "2024-10-22T16:15:26.091636Z",
     "iopub.status.busy": "2024-10-22T16:15:26.091046Z",
     "iopub.status.idle": "2024-10-22T16:15:26.449282Z",
     "shell.execute_reply": "2024-10-22T16:15:26.447918Z"
    },
    "papermill": {
     "duration": 0.376647,
     "end_time": "2024-10-22T16:15:26.452530",
     "exception": false,
     "start_time": "2024-10-22T16:15:26.075883",
     "status": "completed"
    },
    "tags": []
   },
   "outputs": [
    {
     "data": {
      "image/svg+xml": [
       "<?xml version=\"1.0\" encoding=\"UTF-8\" standalone=\"no\"?>\n",
       "<!DOCTYPE svg PUBLIC \"-//W3C//DTD SVG 1.1//EN\"\n",
       " \"http://www.w3.org/Graphics/SVG/1.1/DTD/svg11.dtd\">\n",
       "<!-- Generated by graphviz version 8.1.0 (20230707.2238)\n",
       " -->\n",
       "<!-- Title: Tree Pages: 1 -->\n",
       "<svg width=\"762pt\" height=\"331pt\"\n",
       " viewBox=\"0.00 0.00 762.00 331.25\" xmlns=\"http://www.w3.org/2000/svg\" xmlns:xlink=\"http://www.w3.org/1999/xlink\">\n",
       "<g id=\"graph0\" class=\"graph\" transform=\"scale(1 1) rotate(0) translate(4 327.25)\">\n",
       "<title>Tree</title>\n",
       "<polygon fill=\"white\" stroke=\"none\" points=\"-4,4 -4,-327.25 758,-327.25 758,4 -4,4\"/>\n",
       "<!-- 0 -->\n",
       "<g id=\"node1\" class=\"node\">\n",
       "<title>0</title>\n",
       "<polygon fill=\"#f6d2b8\" stroke=\"black\" points=\"464,-323.25 289,-323.25 289,-263.5 464,-263.5 464,-323.25\"/>\n",
       "<text text-anchor=\"middle\" x=\"376.5\" y=\"-305.95\" font-family=\"Helvetica,sans-Serif\" font-size=\"14.00\">Sex_female &lt;= 0.5</text>\n",
       "<text text-anchor=\"middle\" x=\"376.5\" y=\"-288.7\" font-family=\"Helvetica,sans-Serif\" font-size=\"14.00\">samples = 100.0%</text>\n",
       "<text text-anchor=\"middle\" x=\"376.5\" y=\"-271.45\" font-family=\"Helvetica,sans-Serif\" font-size=\"14.00\">value = [0.609, 0.391]</text>\n",
       "</g>\n",
       "<!-- 1 -->\n",
       "<g id=\"node2\" class=\"node\">\n",
       "<title>1</title>\n",
       "<polygon fill=\"#eb9e66\" stroke=\"black\" points=\"368,-227.5 193,-227.5 193,-167.75 368,-167.75 368,-227.5\"/>\n",
       "<text text-anchor=\"middle\" x=\"280.5\" y=\"-210.2\" font-family=\"Helvetica,sans-Serif\" font-size=\"14.00\">Age &lt;= 6.5</text>\n",
       "<text text-anchor=\"middle\" x=\"280.5\" y=\"-192.95\" font-family=\"Helvetica,sans-Serif\" font-size=\"14.00\">samples = 62.7%</text>\n",
       "<text text-anchor=\"middle\" x=\"280.5\" y=\"-175.7\" font-family=\"Helvetica,sans-Serif\" font-size=\"14.00\">value = [0.815, 0.185]</text>\n",
       "</g>\n",
       "<!-- 0&#45;&gt;1 -->\n",
       "<g id=\"edge1\" class=\"edge\">\n",
       "<title>0&#45;&gt;1</title>\n",
       "<path fill=\"none\" stroke=\"black\" d=\"M346.65,-263.23C337.62,-254.41 327.59,-244.61 318.12,-235.36\"/>\n",
       "<polygon fill=\"black\" stroke=\"black\" points=\"320.93,-233.24 311.33,-228.76 316.04,-238.25 320.93,-233.24\"/>\n",
       "<text text-anchor=\"middle\" x=\"310.63\" y=\"-248.08\" font-family=\"Helvetica,sans-Serif\" font-size=\"14.00\">True</text>\n",
       "</g>\n",
       "<!-- 18 -->\n",
       "<g id=\"node9\" class=\"node\">\n",
       "<title>18</title>\n",
       "<polygon fill=\"#7cbeee\" stroke=\"black\" points=\"561,-227.5 386,-227.5 386,-167.75 561,-167.75 561,-227.5\"/>\n",
       "<text text-anchor=\"middle\" x=\"473.5\" y=\"-210.2\" font-family=\"Helvetica,sans-Serif\" font-size=\"14.00\">Pclass &lt;= 2.5</text>\n",
       "<text text-anchor=\"middle\" x=\"473.5\" y=\"-192.95\" font-family=\"Helvetica,sans-Serif\" font-size=\"14.00\">samples = 37.3%</text>\n",
       "<text text-anchor=\"middle\" x=\"473.5\" y=\"-175.7\" font-family=\"Helvetica,sans-Serif\" font-size=\"14.00\">value = [0.254, 0.746]</text>\n",
       "</g>\n",
       "<!-- 0&#45;&gt;18 -->\n",
       "<g id=\"edge8\" class=\"edge\">\n",
       "<title>0&#45;&gt;18</title>\n",
       "<path fill=\"none\" stroke=\"black\" d=\"M406.66,-263.23C415.78,-254.41 425.92,-244.61 435.49,-235.36\"/>\n",
       "<polygon fill=\"black\" stroke=\"black\" points=\"437.6,-238.22 442.36,-228.76 432.74,-233.19 437.6,-238.22\"/>\n",
       "<text text-anchor=\"middle\" x=\"442.93\" y=\"-248.08\" font-family=\"Helvetica,sans-Serif\" font-size=\"14.00\">False</text>\n",
       "</g>\n",
       "<!-- 2 -->\n",
       "<g id=\"node3\" class=\"node\">\n",
       "<title>2</title>\n",
       "<polygon fill=\"#4ba6e7\" stroke=\"black\" points=\"175,-131.75 0,-131.75 0,-72 175,-72 175,-131.75\"/>\n",
       "<text text-anchor=\"middle\" x=\"87.5\" y=\"-114.45\" font-family=\"Helvetica,sans-Serif\" font-size=\"14.00\">SibSp &lt;= 2.0</text>\n",
       "<text text-anchor=\"middle\" x=\"87.5\" y=\"-97.2\" font-family=\"Helvetica,sans-Serif\" font-size=\"14.00\">samples = 1.9%</text>\n",
       "<text text-anchor=\"middle\" x=\"87.5\" y=\"-79.95\" font-family=\"Helvetica,sans-Serif\" font-size=\"14.00\">value = [0.083, 0.917]</text>\n",
       "</g>\n",
       "<!-- 1&#45;&gt;2 -->\n",
       "<g id=\"edge2\" class=\"edge\">\n",
       "<title>1&#45;&gt;2</title>\n",
       "<path fill=\"none\" stroke=\"black\" d=\"M220.23,-167.35C200.27,-157.65 177.9,-146.79 157.29,-136.78\"/>\n",
       "<polygon fill=\"black\" stroke=\"black\" points=\"159.17,-133.31 148.65,-132.09 156.11,-139.61 159.17,-133.31\"/>\n",
       "</g>\n",
       "<!-- 5 -->\n",
       "<g id=\"node6\" class=\"node\">\n",
       "<title>5</title>\n",
       "<polygon fill=\"#ea995f\" stroke=\"black\" points=\"367.62,-131.75 193.38,-131.75 193.38,-72 367.62,-72 367.62,-131.75\"/>\n",
       "<text text-anchor=\"middle\" x=\"280.5\" y=\"-114.45\" font-family=\"Helvetica,sans-Serif\" font-size=\"14.00\">PassengerId &lt;= 727.0</text>\n",
       "<text text-anchor=\"middle\" x=\"280.5\" y=\"-97.2\" font-family=\"Helvetica,sans-Serif\" font-size=\"14.00\">samples = 60.8%</text>\n",
       "<text text-anchor=\"middle\" x=\"280.5\" y=\"-79.95\" font-family=\"Helvetica,sans-Serif\" font-size=\"14.00\">value = [0.84, 0.16]</text>\n",
       "</g>\n",
       "<!-- 1&#45;&gt;5 -->\n",
       "<g id=\"edge5\" class=\"edge\">\n",
       "<title>1&#45;&gt;5</title>\n",
       "<path fill=\"none\" stroke=\"black\" d=\"M280.5,-167.48C280.5,-159.72 280.5,-151.2 280.5,-142.96\"/>\n",
       "<polygon fill=\"black\" stroke=\"black\" points=\"284,-143.01 280.5,-133.01 277,-143.01 284,-143.01\"/>\n",
       "</g>\n",
       "<!-- 3 -->\n",
       "<g id=\"node4\" class=\"node\">\n",
       "<title>3</title>\n",
       "<polygon fill=\"#c0c0c0\" stroke=\"black\" points=\"78.5,-36 24.5,-36 24.5,0 78.5,0 78.5,-36\"/>\n",
       "<text text-anchor=\"middle\" x=\"51.5\" y=\"-13.32\" font-family=\"Helvetica,sans-Serif\" font-size=\"14.00\">(...)</text>\n",
       "</g>\n",
       "<!-- 2&#45;&gt;3 -->\n",
       "<g id=\"edge3\" class=\"edge\">\n",
       "<title>2&#45;&gt;3</title>\n",
       "<path fill=\"none\" stroke=\"black\" d=\"M74.71,-71.78C71.01,-63.38 67,-54.24 63.36,-45.98\"/>\n",
       "<polygon fill=\"black\" stroke=\"black\" points=\"66.24,-44.83 59.01,-37.09 59.83,-47.65 66.24,-44.83\"/>\n",
       "</g>\n",
       "<!-- 4 -->\n",
       "<g id=\"node5\" class=\"node\">\n",
       "<title>4</title>\n",
       "<polygon fill=\"#c0c0c0\" stroke=\"black\" points=\"150.5,-36 96.5,-36 96.5,0 150.5,0 150.5,-36\"/>\n",
       "<text text-anchor=\"middle\" x=\"123.5\" y=\"-13.32\" font-family=\"Helvetica,sans-Serif\" font-size=\"14.00\">(...)</text>\n",
       "</g>\n",
       "<!-- 2&#45;&gt;4 -->\n",
       "<g id=\"edge4\" class=\"edge\">\n",
       "<title>2&#45;&gt;4</title>\n",
       "<path fill=\"none\" stroke=\"black\" d=\"M100.29,-71.78C103.99,-63.38 108,-54.24 111.64,-45.98\"/>\n",
       "<polygon fill=\"black\" stroke=\"black\" points=\"115.17,-47.65 115.99,-37.09 108.76,-44.83 115.17,-47.65\"/>\n",
       "</g>\n",
       "<!-- 6 -->\n",
       "<g id=\"node7\" class=\"node\">\n",
       "<title>6</title>\n",
       "<polygon fill=\"#c0c0c0\" stroke=\"black\" points=\"283.5,-36 229.5,-36 229.5,0 283.5,0 283.5,-36\"/>\n",
       "<text text-anchor=\"middle\" x=\"256.5\" y=\"-13.32\" font-family=\"Helvetica,sans-Serif\" font-size=\"14.00\">(...)</text>\n",
       "</g>\n",
       "<!-- 5&#45;&gt;6 -->\n",
       "<g id=\"edge6\" class=\"edge\">\n",
       "<title>5&#45;&gt;6</title>\n",
       "<path fill=\"none\" stroke=\"black\" d=\"M271.97,-71.78C269.56,-63.56 266.95,-54.65 264.57,-46.53\"/>\n",
       "<polygon fill=\"black\" stroke=\"black\" points=\"267.68,-45.7 261.51,-37.09 260.96,-47.67 267.68,-45.7\"/>\n",
       "</g>\n",
       "<!-- 13 -->\n",
       "<g id=\"node8\" class=\"node\">\n",
       "<title>13</title>\n",
       "<polygon fill=\"#c0c0c0\" stroke=\"black\" points=\"355.5,-36 301.5,-36 301.5,0 355.5,0 355.5,-36\"/>\n",
       "<text text-anchor=\"middle\" x=\"328.5\" y=\"-13.32\" font-family=\"Helvetica,sans-Serif\" font-size=\"14.00\">(...)</text>\n",
       "</g>\n",
       "<!-- 5&#45;&gt;13 -->\n",
       "<g id=\"edge7\" class=\"edge\">\n",
       "<title>5&#45;&gt;13</title>\n",
       "<path fill=\"none\" stroke=\"black\" d=\"M297.56,-71.78C302.59,-63.19 308.08,-53.84 313.01,-45.43\"/>\n",
       "<polygon fill=\"black\" stroke=\"black\" points=\"316.45,-47.48 318.48,-37.09 310.41,-43.94 316.45,-47.48\"/>\n",
       "</g>\n",
       "<!-- 19 -->\n",
       "<g id=\"node10\" class=\"node\">\n",
       "<title>19</title>\n",
       "<polygon fill=\"#45a3e7\" stroke=\"black\" points=\"561,-131.75 386,-131.75 386,-72 561,-72 561,-131.75\"/>\n",
       "<text text-anchor=\"middle\" x=\"473.5\" y=\"-114.45\" font-family=\"Helvetica,sans-Serif\" font-size=\"14.00\">Age &lt;= 27.5</text>\n",
       "<text text-anchor=\"middle\" x=\"473.5\" y=\"-97.2\" font-family=\"Helvetica,sans-Serif\" font-size=\"14.00\">samples = 23.6%</text>\n",
       "<text text-anchor=\"middle\" x=\"473.5\" y=\"-79.95\" font-family=\"Helvetica,sans-Serif\" font-size=\"14.00\">value = [0.056, 0.944]</text>\n",
       "</g>\n",
       "<!-- 18&#45;&gt;19 -->\n",
       "<g id=\"edge9\" class=\"edge\">\n",
       "<title>18&#45;&gt;19</title>\n",
       "<path fill=\"none\" stroke=\"black\" d=\"M473.5,-167.48C473.5,-159.72 473.5,-151.2 473.5,-142.96\"/>\n",
       "<polygon fill=\"black\" stroke=\"black\" points=\"477,-143.01 473.5,-133.01 470,-143.01 477,-143.01\"/>\n",
       "</g>\n",
       "<!-- 32 -->\n",
       "<g id=\"node13\" class=\"node\">\n",
       "<title>32</title>\n",
       "<polygon fill=\"#fae6d8\" stroke=\"black\" points=\"754,-131.75 579,-131.75 579,-72 754,-72 754,-131.75\"/>\n",
       "<text text-anchor=\"middle\" x=\"666.5\" y=\"-114.45\" font-family=\"Helvetica,sans-Serif\" font-size=\"14.00\">Fare &lt;= 23.087</text>\n",
       "<text text-anchor=\"middle\" x=\"666.5\" y=\"-97.2\" font-family=\"Helvetica,sans-Serif\" font-size=\"14.00\">samples = 13.7%</text>\n",
       "<text text-anchor=\"middle\" x=\"666.5\" y=\"-79.95\" font-family=\"Helvetica,sans-Serif\" font-size=\"14.00\">value = [0.554, 0.446]</text>\n",
       "</g>\n",
       "<!-- 18&#45;&gt;32 -->\n",
       "<g id=\"edge12\" class=\"edge\">\n",
       "<title>18&#45;&gt;32</title>\n",
       "<path fill=\"none\" stroke=\"black\" d=\"M533.77,-167.35C553.73,-157.65 576.1,-146.79 596.71,-136.78\"/>\n",
       "<polygon fill=\"black\" stroke=\"black\" points=\"597.89,-139.61 605.35,-132.09 594.83,-133.31 597.89,-139.61\"/>\n",
       "</g>\n",
       "<!-- 20 -->\n",
       "<g id=\"node11\" class=\"node\">\n",
       "<title>20</title>\n",
       "<polygon fill=\"#c0c0c0\" stroke=\"black\" points=\"451.5,-36 397.5,-36 397.5,0 451.5,0 451.5,-36\"/>\n",
       "<text text-anchor=\"middle\" x=\"424.5\" y=\"-13.32\" font-family=\"Helvetica,sans-Serif\" font-size=\"14.00\">(...)</text>\n",
       "</g>\n",
       "<!-- 19&#45;&gt;20 -->\n",
       "<g id=\"edge10\" class=\"edge\">\n",
       "<title>19&#45;&gt;20</title>\n",
       "<path fill=\"none\" stroke=\"black\" d=\"M456.09,-71.78C450.95,-63.19 445.35,-53.84 440.32,-45.43\"/>\n",
       "<polygon fill=\"black\" stroke=\"black\" points=\"442.86,-43.87 434.73,-37.09 436.86,-47.46 442.86,-43.87\"/>\n",
       "</g>\n",
       "<!-- 27 -->\n",
       "<g id=\"node12\" class=\"node\">\n",
       "<title>27</title>\n",
       "<polygon fill=\"#c0c0c0\" stroke=\"black\" points=\"523.5,-36 469.5,-36 469.5,0 523.5,0 523.5,-36\"/>\n",
       "<text text-anchor=\"middle\" x=\"496.5\" y=\"-13.32\" font-family=\"Helvetica,sans-Serif\" font-size=\"14.00\">(...)</text>\n",
       "</g>\n",
       "<!-- 19&#45;&gt;27 -->\n",
       "<g id=\"edge11\" class=\"edge\">\n",
       "<title>19&#45;&gt;27</title>\n",
       "<path fill=\"none\" stroke=\"black\" d=\"M481.67,-71.78C483.98,-63.56 486.49,-54.65 488.77,-46.53\"/>\n",
       "<polygon fill=\"black\" stroke=\"black\" points=\"492.37,-47.66 491.7,-37.09 485.63,-45.77 492.37,-47.66\"/>\n",
       "</g>\n",
       "<!-- 33 -->\n",
       "<g id=\"node14\" class=\"node\">\n",
       "<title>33</title>\n",
       "<polygon fill=\"#c0c0c0\" stroke=\"black\" points=\"657.5,-36 603.5,-36 603.5,0 657.5,0 657.5,-36\"/>\n",
       "<text text-anchor=\"middle\" x=\"630.5\" y=\"-13.32\" font-family=\"Helvetica,sans-Serif\" font-size=\"14.00\">(...)</text>\n",
       "</g>\n",
       "<!-- 32&#45;&gt;33 -->\n",
       "<g id=\"edge13\" class=\"edge\">\n",
       "<title>32&#45;&gt;33</title>\n",
       "<path fill=\"none\" stroke=\"black\" d=\"M653.71,-71.78C650.01,-63.38 646,-54.24 642.36,-45.98\"/>\n",
       "<polygon fill=\"black\" stroke=\"black\" points=\"645.24,-44.83 638.01,-37.09 638.83,-47.65 645.24,-44.83\"/>\n",
       "</g>\n",
       "<!-- 40 -->\n",
       "<g id=\"node15\" class=\"node\">\n",
       "<title>40</title>\n",
       "<polygon fill=\"#c0c0c0\" stroke=\"black\" points=\"729.5,-36 675.5,-36 675.5,0 729.5,0 729.5,-36\"/>\n",
       "<text text-anchor=\"middle\" x=\"702.5\" y=\"-13.32\" font-family=\"Helvetica,sans-Serif\" font-size=\"14.00\">(...)</text>\n",
       "</g>\n",
       "<!-- 32&#45;&gt;40 -->\n",
       "<g id=\"edge14\" class=\"edge\">\n",
       "<title>32&#45;&gt;40</title>\n",
       "<path fill=\"none\" stroke=\"black\" d=\"M679.29,-71.78C682.99,-63.38 687,-54.24 690.64,-45.98\"/>\n",
       "<polygon fill=\"black\" stroke=\"black\" points=\"694.17,-47.65 694.99,-37.09 687.76,-44.83 694.17,-47.65\"/>\n",
       "</g>\n",
       "</g>\n",
       "</svg>\n"
      ],
      "text/plain": [
       "<graphviz.sources.Source at 0x7fd57eba6770>"
      ]
     },
     "metadata": {},
     "output_type": "display_data"
    },
    {
     "data": {
      "image/svg+xml": [
       "<?xml version=\"1.0\" encoding=\"UTF-8\" standalone=\"no\"?>\n",
       "<!DOCTYPE svg PUBLIC \"-//W3C//DTD SVG 1.1//EN\"\n",
       " \"http://www.w3.org/Graphics/SVG/1.1/DTD/svg11.dtd\">\n",
       "<!-- Generated by graphviz version 8.1.0 (20230707.2238)\n",
       " -->\n",
       "<!-- Title: Tree Pages: 1 -->\n",
       "<svg width=\"728pt\" height=\"331pt\"\n",
       " viewBox=\"0.00 0.00 728.00 331.25\" xmlns=\"http://www.w3.org/2000/svg\" xmlns:xlink=\"http://www.w3.org/1999/xlink\">\n",
       "<g id=\"graph0\" class=\"graph\" transform=\"scale(1 1) rotate(0) translate(4 327.25)\">\n",
       "<title>Tree</title>\n",
       "<polygon fill=\"white\" stroke=\"none\" points=\"-4,4 -4,-327.25 724,-327.25 724,4 -4,4\"/>\n",
       "<!-- 0 -->\n",
       "<g id=\"node1\" class=\"node\">\n",
       "<title>0</title>\n",
       "<polygon fill=\"#f7d8c2\" stroke=\"black\" points=\"430,-323.25 273,-323.25 273,-263.5 430,-263.5 430,-323.25\"/>\n",
       "<text text-anchor=\"middle\" x=\"351.5\" y=\"-305.95\" font-family=\"Helvetica,sans-Serif\" font-size=\"14.00\">Sex_male &lt;= 0.5</text>\n",
       "<text text-anchor=\"middle\" x=\"351.5\" y=\"-288.7\" font-family=\"Helvetica,sans-Serif\" font-size=\"14.00\">samples = 100.0%</text>\n",
       "<text text-anchor=\"middle\" x=\"351.5\" y=\"-271.45\" font-family=\"Helvetica,sans-Serif\" font-size=\"14.00\">value = [0.59, 0.41]</text>\n",
       "</g>\n",
       "<!-- 1 -->\n",
       "<g id=\"node2\" class=\"node\">\n",
       "<title>1</title>\n",
       "<polygon fill=\"#86c3ef\" stroke=\"black\" points=\"338,-227.5 181,-227.5 181,-167.75 338,-167.75 338,-227.5\"/>\n",
       "<text text-anchor=\"middle\" x=\"259.5\" y=\"-210.2\" font-family=\"Helvetica,sans-Serif\" font-size=\"14.00\">Parch &lt;= 4.0</text>\n",
       "<text text-anchor=\"middle\" x=\"259.5\" y=\"-192.95\" font-family=\"Helvetica,sans-Serif\" font-size=\"14.00\">samples = 36.3%</text>\n",
       "<text text-anchor=\"middle\" x=\"259.5\" y=\"-175.7\" font-family=\"Helvetica,sans-Serif\" font-size=\"14.00\">value = [0.28, 0.72]</text>\n",
       "</g>\n",
       "<!-- 0&#45;&gt;1 -->\n",
       "<g id=\"edge1\" class=\"edge\">\n",
       "<title>0&#45;&gt;1</title>\n",
       "<path fill=\"none\" stroke=\"black\" d=\"M322.89,-263.23C314.24,-254.41 304.62,-244.61 295.55,-235.36\"/>\n",
       "<polygon fill=\"black\" stroke=\"black\" points=\"298.59,-233.44 289.09,-228.76 293.59,-238.35 298.59,-233.44\"/>\n",
       "<text text-anchor=\"middle\" x=\"287.85\" y=\"-248.08\" font-family=\"Helvetica,sans-Serif\" font-size=\"14.00\">True</text>\n",
       "</g>\n",
       "<!-- 16 -->\n",
       "<g id=\"node7\" class=\"node\">\n",
       "<title>16</title>\n",
       "<polygon fill=\"#eda673\" stroke=\"black\" points=\"531,-227.5 356,-227.5 356,-167.75 531,-167.75 531,-227.5\"/>\n",
       "<text text-anchor=\"middle\" x=\"443.5\" y=\"-210.2\" font-family=\"Helvetica,sans-Serif\" font-size=\"14.00\">Age &lt;= 9.5</text>\n",
       "<text text-anchor=\"middle\" x=\"443.5\" y=\"-192.95\" font-family=\"Helvetica,sans-Serif\" font-size=\"14.00\">samples = 63.7%</text>\n",
       "<text text-anchor=\"middle\" x=\"443.5\" y=\"-175.7\" font-family=\"Helvetica,sans-Serif\" font-size=\"14.00\">value = [0.772, 0.228]</text>\n",
       "</g>\n",
       "<!-- 0&#45;&gt;16 -->\n",
       "<g id=\"edge6\" class=\"edge\">\n",
       "<title>0&#45;&gt;16</title>\n",
       "<path fill=\"none\" stroke=\"black\" d=\"M380.11,-263.23C388.76,-254.41 398.38,-244.61 407.45,-235.36\"/>\n",
       "<polygon fill=\"black\" stroke=\"black\" points=\"409.41,-238.35 413.91,-228.76 404.41,-233.44 409.41,-238.35\"/>\n",
       "<text text-anchor=\"middle\" x=\"415.15\" y=\"-248.08\" font-family=\"Helvetica,sans-Serif\" font-size=\"14.00\">False</text>\n",
       "</g>\n",
       "<!-- 2 -->\n",
       "<g id=\"node3\" class=\"node\">\n",
       "<title>2</title>\n",
       "<polygon fill=\"#7dbfee\" stroke=\"black\" points=\"175,-131.75 0,-131.75 0,-72 175,-72 175,-131.75\"/>\n",
       "<text text-anchor=\"middle\" x=\"87.5\" y=\"-114.45\" font-family=\"Helvetica,sans-Serif\" font-size=\"14.00\">Parch &lt;= 1.5</text>\n",
       "<text text-anchor=\"middle\" x=\"87.5\" y=\"-97.2\" font-family=\"Helvetica,sans-Serif\" font-size=\"14.00\">samples = 35.5%</text>\n",
       "<text text-anchor=\"middle\" x=\"87.5\" y=\"-79.95\" font-family=\"Helvetica,sans-Serif\" font-size=\"14.00\">value = [0.255, 0.745]</text>\n",
       "</g>\n",
       "<!-- 1&#45;&gt;2 -->\n",
       "<g id=\"edge2\" class=\"edge\">\n",
       "<title>1&#45;&gt;2</title>\n",
       "<path fill=\"none\" stroke=\"black\" d=\"M206.02,-167.48C188.55,-157.95 168.98,-147.29 150.85,-137.41\"/>\n",
       "<polygon fill=\"black\" stroke=\"black\" points=\"152.7,-133.88 142.24,-132.17 149.35,-140.03 152.7,-133.88\"/>\n",
       "</g>\n",
       "<!-- 15 -->\n",
       "<g id=\"node6\" class=\"node\">\n",
       "<title>15</title>\n",
       "<polygon fill=\"#e58139\" stroke=\"black\" points=\"332,-123.12 193,-123.12 193,-80.62 332,-80.62 332,-123.12\"/>\n",
       "<text text-anchor=\"middle\" x=\"262.5\" y=\"-105.83\" font-family=\"Helvetica,sans-Serif\" font-size=\"14.00\">samples = 0.8%</text>\n",
       "<text text-anchor=\"middle\" x=\"262.5\" y=\"-88.58\" font-family=\"Helvetica,sans-Serif\" font-size=\"14.00\">value = [1.0, 0.0]</text>\n",
       "</g>\n",
       "<!-- 1&#45;&gt;15 -->\n",
       "<g id=\"edge5\" class=\"edge\">\n",
       "<title>1&#45;&gt;15</title>\n",
       "<path fill=\"none\" stroke=\"black\" d=\"M260.43,-167.48C260.77,-156.86 261.16,-144.83 261.5,-134.05\"/>\n",
       "<polygon fill=\"black\" stroke=\"black\" points=\"265.02,-134.49 261.84,-124.38 258.03,-134.26 265.02,-134.49\"/>\n",
       "</g>\n",
       "<!-- 3 -->\n",
       "<g id=\"node4\" class=\"node\">\n",
       "<title>3</title>\n",
       "<polygon fill=\"#c0c0c0\" stroke=\"black\" points=\"78.5,-36 24.5,-36 24.5,0 78.5,0 78.5,-36\"/>\n",
       "<text text-anchor=\"middle\" x=\"51.5\" y=\"-13.32\" font-family=\"Helvetica,sans-Serif\" font-size=\"14.00\">(...)</text>\n",
       "</g>\n",
       "<!-- 2&#45;&gt;3 -->\n",
       "<g id=\"edge3\" class=\"edge\">\n",
       "<title>2&#45;&gt;3</title>\n",
       "<path fill=\"none\" stroke=\"black\" d=\"M74.71,-71.78C71.01,-63.38 67,-54.24 63.36,-45.98\"/>\n",
       "<polygon fill=\"black\" stroke=\"black\" points=\"66.24,-44.83 59.01,-37.09 59.83,-47.65 66.24,-44.83\"/>\n",
       "</g>\n",
       "<!-- 8 -->\n",
       "<g id=\"node5\" class=\"node\">\n",
       "<title>8</title>\n",
       "<polygon fill=\"#c0c0c0\" stroke=\"black\" points=\"150.5,-36 96.5,-36 96.5,0 150.5,0 150.5,-36\"/>\n",
       "<text text-anchor=\"middle\" x=\"123.5\" y=\"-13.32\" font-family=\"Helvetica,sans-Serif\" font-size=\"14.00\">(...)</text>\n",
       "</g>\n",
       "<!-- 2&#45;&gt;8 -->\n",
       "<g id=\"edge4\" class=\"edge\">\n",
       "<title>2&#45;&gt;8</title>\n",
       "<path fill=\"none\" stroke=\"black\" d=\"M100.29,-71.78C103.99,-63.38 108,-54.24 111.64,-45.98\"/>\n",
       "<polygon fill=\"black\" stroke=\"black\" points=\"115.17,-47.65 115.99,-37.09 108.76,-44.83 115.17,-47.65\"/>\n",
       "</g>\n",
       "<!-- 17 -->\n",
       "<g id=\"node8\" class=\"node\">\n",
       "<title>17</title>\n",
       "<polygon fill=\"#9ccef2\" stroke=\"black\" points=\"527,-131.75 352,-131.75 352,-72 527,-72 527,-131.75\"/>\n",
       "<text text-anchor=\"middle\" x=\"439.5\" y=\"-114.45\" font-family=\"Helvetica,sans-Serif\" font-size=\"14.00\">Pclass &lt;= 2.5</text>\n",
       "<text text-anchor=\"middle\" x=\"439.5\" y=\"-97.2\" font-family=\"Helvetica,sans-Serif\" font-size=\"14.00\">samples = 4.2%</text>\n",
       "<text text-anchor=\"middle\" x=\"439.5\" y=\"-79.95\" font-family=\"Helvetica,sans-Serif\" font-size=\"14.00\">value = [0.333, 0.667]</text>\n",
       "</g>\n",
       "<!-- 16&#45;&gt;17 -->\n",
       "<g id=\"edge7\" class=\"edge\">\n",
       "<title>16&#45;&gt;17</title>\n",
       "<path fill=\"none\" stroke=\"black\" d=\"M442.26,-167.48C441.93,-159.72 441.56,-151.2 441.21,-142.96\"/>\n",
       "<polygon fill=\"black\" stroke=\"black\" points=\"444.67,-142.85 440.74,-133.01 437.67,-143.15 444.67,-142.85\"/>\n",
       "</g>\n",
       "<!-- 24 -->\n",
       "<g id=\"node11\" class=\"node\">\n",
       "<title>24</title>\n",
       "<polygon fill=\"#eca16b\" stroke=\"black\" points=\"720,-131.75 545,-131.75 545,-72 720,-72 720,-131.75\"/>\n",
       "<text text-anchor=\"middle\" x=\"632.5\" y=\"-114.45\" font-family=\"Helvetica,sans-Serif\" font-size=\"14.00\">Parch &lt;= 0.5</text>\n",
       "<text text-anchor=\"middle\" x=\"632.5\" y=\"-97.2\" font-family=\"Helvetica,sans-Serif\" font-size=\"14.00\">samples = 59.6%</text>\n",
       "<text text-anchor=\"middle\" x=\"632.5\" y=\"-79.95\" font-family=\"Helvetica,sans-Serif\" font-size=\"14.00\">value = [0.799, 0.201]</text>\n",
       "</g>\n",
       "<!-- 16&#45;&gt;24 -->\n",
       "<g id=\"edge10\" class=\"edge\">\n",
       "<title>16&#45;&gt;24</title>\n",
       "<path fill=\"none\" stroke=\"black\" d=\"M502.52,-167.35C521.98,-157.7 543.78,-146.88 563.88,-136.91\"/>\n",
       "<polygon fill=\"black\" stroke=\"black\" points=\"565.2,-139.67 572.6,-132.09 562.09,-133.4 565.2,-139.67\"/>\n",
       "</g>\n",
       "<!-- 18 -->\n",
       "<g id=\"node9\" class=\"node\">\n",
       "<title>18</title>\n",
       "<polygon fill=\"#c0c0c0\" stroke=\"black\" points=\"430.5,-36 376.5,-36 376.5,0 430.5,0 430.5,-36\"/>\n",
       "<text text-anchor=\"middle\" x=\"403.5\" y=\"-13.32\" font-family=\"Helvetica,sans-Serif\" font-size=\"14.00\">(...)</text>\n",
       "</g>\n",
       "<!-- 17&#45;&gt;18 -->\n",
       "<g id=\"edge8\" class=\"edge\">\n",
       "<title>17&#45;&gt;18</title>\n",
       "<path fill=\"none\" stroke=\"black\" d=\"M426.71,-71.78C423.01,-63.38 419,-54.24 415.36,-45.98\"/>\n",
       "<polygon fill=\"black\" stroke=\"black\" points=\"418.24,-44.83 411.01,-37.09 411.83,-47.65 418.24,-44.83\"/>\n",
       "</g>\n",
       "<!-- 19 -->\n",
       "<g id=\"node10\" class=\"node\">\n",
       "<title>19</title>\n",
       "<polygon fill=\"#c0c0c0\" stroke=\"black\" points=\"502.5,-36 448.5,-36 448.5,0 502.5,0 502.5,-36\"/>\n",
       "<text text-anchor=\"middle\" x=\"475.5\" y=\"-13.32\" font-family=\"Helvetica,sans-Serif\" font-size=\"14.00\">(...)</text>\n",
       "</g>\n",
       "<!-- 17&#45;&gt;19 -->\n",
       "<g id=\"edge9\" class=\"edge\">\n",
       "<title>17&#45;&gt;19</title>\n",
       "<path fill=\"none\" stroke=\"black\" d=\"M452.29,-71.78C455.99,-63.38 460,-54.24 463.64,-45.98\"/>\n",
       "<polygon fill=\"black\" stroke=\"black\" points=\"467.17,-47.65 467.99,-37.09 460.76,-44.83 467.17,-47.65\"/>\n",
       "</g>\n",
       "<!-- 25 -->\n",
       "<g id=\"node12\" class=\"node\">\n",
       "<title>25</title>\n",
       "<polygon fill=\"#c0c0c0\" stroke=\"black\" points=\"623.5,-36 569.5,-36 569.5,0 623.5,0 623.5,-36\"/>\n",
       "<text text-anchor=\"middle\" x=\"596.5\" y=\"-13.32\" font-family=\"Helvetica,sans-Serif\" font-size=\"14.00\">(...)</text>\n",
       "</g>\n",
       "<!-- 24&#45;&gt;25 -->\n",
       "<g id=\"edge11\" class=\"edge\">\n",
       "<title>24&#45;&gt;25</title>\n",
       "<path fill=\"none\" stroke=\"black\" d=\"M619.71,-71.78C616.01,-63.38 612,-54.24 608.36,-45.98\"/>\n",
       "<polygon fill=\"black\" stroke=\"black\" points=\"611.24,-44.83 604.01,-37.09 604.83,-47.65 611.24,-44.83\"/>\n",
       "</g>\n",
       "<!-- 32 -->\n",
       "<g id=\"node13\" class=\"node\">\n",
       "<title>32</title>\n",
       "<polygon fill=\"#c0c0c0\" stroke=\"black\" points=\"695.5,-36 641.5,-36 641.5,0 695.5,0 695.5,-36\"/>\n",
       "<text text-anchor=\"middle\" x=\"668.5\" y=\"-13.32\" font-family=\"Helvetica,sans-Serif\" font-size=\"14.00\">(...)</text>\n",
       "</g>\n",
       "<!-- 24&#45;&gt;32 -->\n",
       "<g id=\"edge12\" class=\"edge\">\n",
       "<title>24&#45;&gt;32</title>\n",
       "<path fill=\"none\" stroke=\"black\" d=\"M645.29,-71.78C648.99,-63.38 653,-54.24 656.64,-45.98\"/>\n",
       "<polygon fill=\"black\" stroke=\"black\" points=\"660.17,-47.65 660.99,-37.09 653.76,-44.83 660.17,-47.65\"/>\n",
       "</g>\n",
       "</g>\n",
       "</svg>\n"
      ],
      "text/plain": [
       "<graphviz.sources.Source at 0x7fd57eba6980>"
      ]
     },
     "metadata": {},
     "output_type": "display_data"
    },
    {
     "data": {
      "image/svg+xml": [
       "<?xml version=\"1.0\" encoding=\"UTF-8\" standalone=\"no\"?>\n",
       "<!DOCTYPE svg PUBLIC \"-//W3C//DTD SVG 1.1//EN\"\n",
       " \"http://www.w3.org/Graphics/SVG/1.1/DTD/svg11.dtd\">\n",
       "<!-- Generated by graphviz version 8.1.0 (20230707.2238)\n",
       " -->\n",
       "<!-- Title: Tree Pages: 1 -->\n",
       "<svg width=\"762pt\" height=\"331pt\"\n",
       " viewBox=\"0.00 0.00 762.00 331.25\" xmlns=\"http://www.w3.org/2000/svg\" xmlns:xlink=\"http://www.w3.org/1999/xlink\">\n",
       "<g id=\"graph0\" class=\"graph\" transform=\"scale(1 1) rotate(0) translate(4 327.25)\">\n",
       "<title>Tree</title>\n",
       "<polygon fill=\"white\" stroke=\"none\" points=\"-4,4 -4,-327.25 758,-327.25 758,4 -4,4\"/>\n",
       "<!-- 0 -->\n",
       "<g id=\"node1\" class=\"node\">\n",
       "<title>0</title>\n",
       "<polygon fill=\"#f8dcc8\" stroke=\"black\" points=\"464,-323.25 289,-323.25 289,-263.5 464,-263.5 464,-323.25\"/>\n",
       "<text text-anchor=\"middle\" x=\"376.5\" y=\"-305.95\" font-family=\"Helvetica,sans-Serif\" font-size=\"14.00\">Sex_female &lt;= 0.5</text>\n",
       "<text text-anchor=\"middle\" x=\"376.5\" y=\"-288.7\" font-family=\"Helvetica,sans-Serif\" font-size=\"14.00\">samples = 100.0%</text>\n",
       "<text text-anchor=\"middle\" x=\"376.5\" y=\"-271.45\" font-family=\"Helvetica,sans-Serif\" font-size=\"14.00\">value = [0.581, 0.419]</text>\n",
       "</g>\n",
       "<!-- 1 -->\n",
       "<g id=\"node2\" class=\"node\">\n",
       "<title>1</title>\n",
       "<polygon fill=\"#eca16b\" stroke=\"black\" points=\"368,-227.5 193,-227.5 193,-167.75 368,-167.75 368,-227.5\"/>\n",
       "<text text-anchor=\"middle\" x=\"280.5\" y=\"-210.2\" font-family=\"Helvetica,sans-Serif\" font-size=\"14.00\">Age &lt;= 3.5</text>\n",
       "<text text-anchor=\"middle\" x=\"280.5\" y=\"-192.95\" font-family=\"Helvetica,sans-Serif\" font-size=\"14.00\">samples = 60.9%</text>\n",
       "<text text-anchor=\"middle\" x=\"280.5\" y=\"-175.7\" font-family=\"Helvetica,sans-Serif\" font-size=\"14.00\">value = [0.799, 0.201]</text>\n",
       "</g>\n",
       "<!-- 0&#45;&gt;1 -->\n",
       "<g id=\"edge1\" class=\"edge\">\n",
       "<title>0&#45;&gt;1</title>\n",
       "<path fill=\"none\" stroke=\"black\" d=\"M346.65,-263.23C337.62,-254.41 327.59,-244.61 318.12,-235.36\"/>\n",
       "<polygon fill=\"black\" stroke=\"black\" points=\"320.93,-233.24 311.33,-228.76 316.04,-238.25 320.93,-233.24\"/>\n",
       "<text text-anchor=\"middle\" x=\"310.63\" y=\"-248.08\" font-family=\"Helvetica,sans-Serif\" font-size=\"14.00\">True</text>\n",
       "</g>\n",
       "<!-- 18 -->\n",
       "<g id=\"node9\" class=\"node\">\n",
       "<title>18</title>\n",
       "<polygon fill=\"#78bced\" stroke=\"black\" points=\"561,-227.5 386,-227.5 386,-167.75 561,-167.75 561,-227.5\"/>\n",
       "<text text-anchor=\"middle\" x=\"473.5\" y=\"-210.2\" font-family=\"Helvetica,sans-Serif\" font-size=\"14.00\">SibSp &lt;= 2.5</text>\n",
       "<text text-anchor=\"middle\" x=\"473.5\" y=\"-192.95\" font-family=\"Helvetica,sans-Serif\" font-size=\"14.00\">samples = 39.1%</text>\n",
       "<text text-anchor=\"middle\" x=\"473.5\" y=\"-175.7\" font-family=\"Helvetica,sans-Serif\" font-size=\"14.00\">value = [0.242, 0.758]</text>\n",
       "</g>\n",
       "<!-- 0&#45;&gt;18 -->\n",
       "<g id=\"edge8\" class=\"edge\">\n",
       "<title>0&#45;&gt;18</title>\n",
       "<path fill=\"none\" stroke=\"black\" d=\"M406.66,-263.23C415.78,-254.41 425.92,-244.61 435.49,-235.36\"/>\n",
       "<polygon fill=\"black\" stroke=\"black\" points=\"437.6,-238.22 442.36,-228.76 432.74,-233.19 437.6,-238.22\"/>\n",
       "<text text-anchor=\"middle\" x=\"442.93\" y=\"-248.08\" font-family=\"Helvetica,sans-Serif\" font-size=\"14.00\">False</text>\n",
       "</g>\n",
       "<!-- 2 -->\n",
       "<g id=\"node3\" class=\"node\">\n",
       "<title>2</title>\n",
       "<polygon fill=\"#47a4e7\" stroke=\"black\" points=\"175,-131.75 0,-131.75 0,-72 175,-72 175,-131.75\"/>\n",
       "<text text-anchor=\"middle\" x=\"87.5\" y=\"-114.45\" font-family=\"Helvetica,sans-Serif\" font-size=\"14.00\">Age &lt;= 1.5</text>\n",
       "<text text-anchor=\"middle\" x=\"87.5\" y=\"-97.2\" font-family=\"Helvetica,sans-Serif\" font-size=\"14.00\">samples = 2.5%</text>\n",
       "<text text-anchor=\"middle\" x=\"87.5\" y=\"-79.95\" font-family=\"Helvetica,sans-Serif\" font-size=\"14.00\">value = [0.067, 0.933]</text>\n",
       "</g>\n",
       "<!-- 1&#45;&gt;2 -->\n",
       "<g id=\"edge2\" class=\"edge\">\n",
       "<title>1&#45;&gt;2</title>\n",
       "<path fill=\"none\" stroke=\"black\" d=\"M220.23,-167.35C200.27,-157.65 177.9,-146.79 157.29,-136.78\"/>\n",
       "<polygon fill=\"black\" stroke=\"black\" points=\"159.17,-133.31 148.65,-132.09 156.11,-139.61 159.17,-133.31\"/>\n",
       "</g>\n",
       "<!-- 9 -->\n",
       "<g id=\"node6\" class=\"node\">\n",
       "<title>9</title>\n",
       "<polygon fill=\"#ea9a61\" stroke=\"black\" points=\"368,-131.75 193,-131.75 193,-72 368,-72 368,-131.75\"/>\n",
       "<text text-anchor=\"middle\" x=\"280.5\" y=\"-114.45\" font-family=\"Helvetica,sans-Serif\" font-size=\"14.00\">Parch &lt;= 2.5</text>\n",
       "<text text-anchor=\"middle\" x=\"280.5\" y=\"-97.2\" font-family=\"Helvetica,sans-Serif\" font-size=\"14.00\">samples = 58.4%</text>\n",
       "<text text-anchor=\"middle\" x=\"280.5\" y=\"-79.95\" font-family=\"Helvetica,sans-Serif\" font-size=\"14.00\">value = [0.832, 0.168]</text>\n",
       "</g>\n",
       "<!-- 1&#45;&gt;9 -->\n",
       "<g id=\"edge5\" class=\"edge\">\n",
       "<title>1&#45;&gt;9</title>\n",
       "<path fill=\"none\" stroke=\"black\" d=\"M280.5,-167.48C280.5,-159.72 280.5,-151.2 280.5,-142.96\"/>\n",
       "<polygon fill=\"black\" stroke=\"black\" points=\"284,-143.01 280.5,-133.01 277,-143.01 284,-143.01\"/>\n",
       "</g>\n",
       "<!-- 3 -->\n",
       "<g id=\"node4\" class=\"node\">\n",
       "<title>3</title>\n",
       "<polygon fill=\"#c0c0c0\" stroke=\"black\" points=\"96.5,-36 42.5,-36 42.5,0 96.5,0 96.5,-36\"/>\n",
       "<text text-anchor=\"middle\" x=\"69.5\" y=\"-13.32\" font-family=\"Helvetica,sans-Serif\" font-size=\"14.00\">(...)</text>\n",
       "</g>\n",
       "<!-- 2&#45;&gt;3 -->\n",
       "<g id=\"edge3\" class=\"edge\">\n",
       "<title>2&#45;&gt;3</title>\n",
       "<path fill=\"none\" stroke=\"black\" d=\"M81.1,-71.78C79.32,-63.66 77.38,-54.85 75.61,-46.81\"/>\n",
       "<polygon fill=\"black\" stroke=\"black\" points=\"78.82,-46.1 73.26,-37.09 71.99,-47.6 78.82,-46.1\"/>\n",
       "</g>\n",
       "<!-- 4 -->\n",
       "<g id=\"node5\" class=\"node\">\n",
       "<title>4</title>\n",
       "<polygon fill=\"#c0c0c0\" stroke=\"black\" points=\"168.5,-36 114.5,-36 114.5,0 168.5,0 168.5,-36\"/>\n",
       "<text text-anchor=\"middle\" x=\"141.5\" y=\"-13.32\" font-family=\"Helvetica,sans-Serif\" font-size=\"14.00\">(...)</text>\n",
       "</g>\n",
       "<!-- 2&#45;&gt;4 -->\n",
       "<g id=\"edge4\" class=\"edge\">\n",
       "<title>2&#45;&gt;4</title>\n",
       "<path fill=\"none\" stroke=\"black\" d=\"M106.69,-71.78C112.42,-63.1 118.66,-53.64 124.25,-45.15\"/>\n",
       "<polygon fill=\"black\" stroke=\"black\" points=\"127.65,-47.36 130.23,-37.09 121.8,-43.51 127.65,-47.36\"/>\n",
       "</g>\n",
       "<!-- 10 -->\n",
       "<g id=\"node7\" class=\"node\">\n",
       "<title>10</title>\n",
       "<polygon fill=\"#c0c0c0\" stroke=\"black\" points=\"253.5,-36 199.5,-36 199.5,0 253.5,0 253.5,-36\"/>\n",
       "<text text-anchor=\"middle\" x=\"226.5\" y=\"-13.32\" font-family=\"Helvetica,sans-Serif\" font-size=\"14.00\">(...)</text>\n",
       "</g>\n",
       "<!-- 9&#45;&gt;10 -->\n",
       "<g id=\"edge6\" class=\"edge\">\n",
       "<title>9&#45;&gt;10</title>\n",
       "<path fill=\"none\" stroke=\"black\" d=\"M261.31,-71.78C255.58,-63.1 249.34,-53.64 243.75,-45.15\"/>\n",
       "<polygon fill=\"black\" stroke=\"black\" points=\"246.2,-43.51 237.77,-37.09 240.35,-47.36 246.2,-43.51\"/>\n",
       "</g>\n",
       "<!-- 17 -->\n",
       "<g id=\"node8\" class=\"node\">\n",
       "<title>17</title>\n",
       "<polygon fill=\"#c0c0c0\" stroke=\"black\" points=\"325.5,-36 271.5,-36 271.5,0 325.5,0 325.5,-36\"/>\n",
       "<text text-anchor=\"middle\" x=\"298.5\" y=\"-13.32\" font-family=\"Helvetica,sans-Serif\" font-size=\"14.00\">(...)</text>\n",
       "</g>\n",
       "<!-- 9&#45;&gt;17 -->\n",
       "<g id=\"edge7\" class=\"edge\">\n",
       "<title>9&#45;&gt;17</title>\n",
       "<path fill=\"none\" stroke=\"black\" d=\"M286.9,-71.78C288.68,-63.66 290.62,-54.85 292.39,-46.81\"/>\n",
       "<polygon fill=\"black\" stroke=\"black\" points=\"296.01,-47.6 294.74,-37.09 289.18,-46.1 296.01,-47.6\"/>\n",
       "</g>\n",
       "<!-- 19 -->\n",
       "<g id=\"node10\" class=\"node\">\n",
       "<title>19</title>\n",
       "<polygon fill=\"#72b9ec\" stroke=\"black\" points=\"561,-131.75 386,-131.75 386,-72 561,-72 561,-131.75\"/>\n",
       "<text text-anchor=\"middle\" x=\"473.5\" y=\"-114.45\" font-family=\"Helvetica,sans-Serif\" font-size=\"14.00\">Parch &lt;= 3.5</text>\n",
       "<text text-anchor=\"middle\" x=\"473.5\" y=\"-97.2\" font-family=\"Helvetica,sans-Serif\" font-size=\"14.00\">samples = 38.0%</text>\n",
       "<text text-anchor=\"middle\" x=\"473.5\" y=\"-79.95\" font-family=\"Helvetica,sans-Serif\" font-size=\"14.00\">value = [0.222, 0.778]</text>\n",
       "</g>\n",
       "<!-- 18&#45;&gt;19 -->\n",
       "<g id=\"edge9\" class=\"edge\">\n",
       "<title>18&#45;&gt;19</title>\n",
       "<path fill=\"none\" stroke=\"black\" d=\"M473.5,-167.48C473.5,-159.72 473.5,-151.2 473.5,-142.96\"/>\n",
       "<polygon fill=\"black\" stroke=\"black\" points=\"477,-143.01 473.5,-133.01 470,-143.01 477,-143.01\"/>\n",
       "</g>\n",
       "<!-- 28 -->\n",
       "<g id=\"node13\" class=\"node\">\n",
       "<title>28</title>\n",
       "<polygon fill=\"#e9965a\" stroke=\"black\" points=\"754,-131.75 579,-131.75 579,-72 754,-72 754,-131.75\"/>\n",
       "<text text-anchor=\"middle\" x=\"666.5\" y=\"-114.45\" font-family=\"Helvetica,sans-Serif\" font-size=\"14.00\">Fare &lt;= 145.45</text>\n",
       "<text text-anchor=\"middle\" x=\"666.5\" y=\"-97.2\" font-family=\"Helvetica,sans-Serif\" font-size=\"14.00\">samples = 1.1%</text>\n",
       "<text text-anchor=\"middle\" x=\"666.5\" y=\"-79.95\" font-family=\"Helvetica,sans-Serif\" font-size=\"14.00\">value = [0.857, 0.143]</text>\n",
       "</g>\n",
       "<!-- 18&#45;&gt;28 -->\n",
       "<g id=\"edge12\" class=\"edge\">\n",
       "<title>18&#45;&gt;28</title>\n",
       "<path fill=\"none\" stroke=\"black\" d=\"M533.77,-167.35C553.73,-157.65 576.1,-146.79 596.71,-136.78\"/>\n",
       "<polygon fill=\"black\" stroke=\"black\" points=\"597.89,-139.61 605.35,-132.09 594.83,-133.31 597.89,-139.61\"/>\n",
       "</g>\n",
       "<!-- 20 -->\n",
       "<g id=\"node11\" class=\"node\">\n",
       "<title>20</title>\n",
       "<polygon fill=\"#c0c0c0\" stroke=\"black\" points=\"464.5,-36 410.5,-36 410.5,0 464.5,0 464.5,-36\"/>\n",
       "<text text-anchor=\"middle\" x=\"437.5\" y=\"-13.32\" font-family=\"Helvetica,sans-Serif\" font-size=\"14.00\">(...)</text>\n",
       "</g>\n",
       "<!-- 19&#45;&gt;20 -->\n",
       "<g id=\"edge10\" class=\"edge\">\n",
       "<title>19&#45;&gt;20</title>\n",
       "<path fill=\"none\" stroke=\"black\" d=\"M460.71,-71.78C457.01,-63.38 453,-54.24 449.36,-45.98\"/>\n",
       "<polygon fill=\"black\" stroke=\"black\" points=\"452.24,-44.83 445.01,-37.09 445.83,-47.65 452.24,-44.83\"/>\n",
       "</g>\n",
       "<!-- 27 -->\n",
       "<g id=\"node12\" class=\"node\">\n",
       "<title>27</title>\n",
       "<polygon fill=\"#c0c0c0\" stroke=\"black\" points=\"536.5,-36 482.5,-36 482.5,0 536.5,0 536.5,-36\"/>\n",
       "<text text-anchor=\"middle\" x=\"509.5\" y=\"-13.32\" font-family=\"Helvetica,sans-Serif\" font-size=\"14.00\">(...)</text>\n",
       "</g>\n",
       "<!-- 19&#45;&gt;27 -->\n",
       "<g id=\"edge11\" class=\"edge\">\n",
       "<title>19&#45;&gt;27</title>\n",
       "<path fill=\"none\" stroke=\"black\" d=\"M486.29,-71.78C489.99,-63.38 494,-54.24 497.64,-45.98\"/>\n",
       "<polygon fill=\"black\" stroke=\"black\" points=\"501.17,-47.65 501.99,-37.09 494.76,-44.83 501.17,-47.65\"/>\n",
       "</g>\n",
       "<!-- 29 -->\n",
       "<g id=\"node14\" class=\"node\">\n",
       "<title>29</title>\n",
       "<polygon fill=\"#c0c0c0\" stroke=\"black\" points=\"657.5,-36 603.5,-36 603.5,0 657.5,0 657.5,-36\"/>\n",
       "<text text-anchor=\"middle\" x=\"630.5\" y=\"-13.32\" font-family=\"Helvetica,sans-Serif\" font-size=\"14.00\">(...)</text>\n",
       "</g>\n",
       "<!-- 28&#45;&gt;29 -->\n",
       "<g id=\"edge13\" class=\"edge\">\n",
       "<title>28&#45;&gt;29</title>\n",
       "<path fill=\"none\" stroke=\"black\" d=\"M653.71,-71.78C650.01,-63.38 646,-54.24 642.36,-45.98\"/>\n",
       "<polygon fill=\"black\" stroke=\"black\" points=\"645.24,-44.83 638.01,-37.09 638.83,-47.65 645.24,-44.83\"/>\n",
       "</g>\n",
       "<!-- 30 -->\n",
       "<g id=\"node15\" class=\"node\">\n",
       "<title>30</title>\n",
       "<polygon fill=\"#c0c0c0\" stroke=\"black\" points=\"729.5,-36 675.5,-36 675.5,0 729.5,0 729.5,-36\"/>\n",
       "<text text-anchor=\"middle\" x=\"702.5\" y=\"-13.32\" font-family=\"Helvetica,sans-Serif\" font-size=\"14.00\">(...)</text>\n",
       "</g>\n",
       "<!-- 28&#45;&gt;30 -->\n",
       "<g id=\"edge14\" class=\"edge\">\n",
       "<title>28&#45;&gt;30</title>\n",
       "<path fill=\"none\" stroke=\"black\" d=\"M679.29,-71.78C682.99,-63.38 687,-54.24 690.64,-45.98\"/>\n",
       "<polygon fill=\"black\" stroke=\"black\" points=\"694.17,-47.65 694.99,-37.09 687.76,-44.83 694.17,-47.65\"/>\n",
       "</g>\n",
       "</g>\n",
       "</svg>\n"
      ],
      "text/plain": [
       "<graphviz.sources.Source at 0x7fd57eba6770>"
      ]
     },
     "metadata": {},
     "output_type": "display_data"
    }
   ],
   "source": [
    "from sklearn.tree import export_graphviz\n",
    "from IPython.display import display\n",
    "import graphviz\n",
    "\n",
    "\n",
    "for i in range(3):\n",
    "    tree = pipe_forest.named_steps['model'].estimators_[i]\n",
    "    dot_data = export_graphviz(tree,\n",
    "                               feature_names=X_train.columns,  \n",
    "                               filled=True,  \n",
    "                               max_depth=2,\n",
    "                               impurity=False, \n",
    "                               proportion=True)\n",
    "    \n",
    "    graph = graphviz.Source(dot_data)\n",
    "    display(graph)"
   ]
  },
  {
   "cell_type": "markdown",
   "id": "40b2972c",
   "metadata": {
    "papermill": {
     "duration": 0.01572,
     "end_time": "2024-10-22T16:15:26.483765",
     "exception": false,
     "start_time": "2024-10-22T16:15:26.468045",
     "status": "completed"
    },
    "tags": []
   },
   "source": [
    "# Exportieren der Vorhersagen"
   ]
  },
  {
   "cell_type": "code",
   "execution_count": 19,
   "id": "a9835f3f",
   "metadata": {
    "execution": {
     "iopub.execute_input": "2024-10-22T16:15:26.517248Z",
     "iopub.status.busy": "2024-10-22T16:15:26.516777Z",
     "iopub.status.idle": "2024-10-22T16:15:26.540687Z",
     "shell.execute_reply": "2024-10-22T16:15:26.539028Z"
    },
    "papermill": {
     "duration": 0.044486,
     "end_time": "2024-10-22T16:15:26.544171",
     "exception": false,
     "start_time": "2024-10-22T16:15:26.499685",
     "status": "completed"
    },
    "tags": []
   },
   "outputs": [
    {
     "name": "stdout",
     "output_type": "stream",
     "text": [
      "(418, 8)\n"
     ]
    }
   ],
   "source": [
    "print(X_test.shape)\n",
    "y_test_pred = pipe_forest.predict(X_test)"
   ]
  },
  {
   "cell_type": "code",
   "execution_count": 20,
   "id": "7286ea63",
   "metadata": {
    "execution": {
     "iopub.execute_input": "2024-10-22T16:15:26.578341Z",
     "iopub.status.busy": "2024-10-22T16:15:26.577220Z",
     "iopub.status.idle": "2024-10-22T16:15:26.594326Z",
     "shell.execute_reply": "2024-10-22T16:15:26.592587Z"
    },
    "papermill": {
     "duration": 0.037389,
     "end_time": "2024-10-22T16:15:26.597579",
     "exception": false,
     "start_time": "2024-10-22T16:15:26.560190",
     "status": "completed"
    },
    "tags": []
   },
   "outputs": [
    {
     "name": "stdout",
     "output_type": "stream",
     "text": [
      "     PassengerId  Survived\n",
      "0            892         0\n",
      "1            893         0\n",
      "2            894         0\n",
      "3            895         0\n",
      "4            896         1\n",
      "..           ...       ...\n",
      "413         1305         1\n",
      "414         1306         1\n",
      "415         1307         0\n",
      "416         1308         1\n",
      "417         1309         1\n",
      "\n",
      "[418 rows x 2 columns]\n"
     ]
    }
   ],
   "source": [
    "output = pd.DataFrame({'PassengerId': df_test.PassengerId,'Survived': y_test_pred})\n",
    "print(output)\n",
    "\n",
    "output.to_csv('submission.csv', index=False)"
   ]
  }
 ],
 "metadata": {
  "kaggle": {
   "accelerator": "none",
   "dataSources": [
    {
     "databundleVersionId": 26502,
     "sourceId": 3136,
     "sourceType": "competition"
    }
   ],
   "dockerImageVersionId": 30579,
   "isGpuEnabled": false,
   "isInternetEnabled": true,
   "language": "python",
   "sourceType": "notebook"
  },
  "kernelspec": {
   "display_name": "Python 3 (ipykernel)",
   "language": "python",
   "name": "python3"
  },
  "language_info": {
   "codemirror_mode": {
    "name": "ipython",
    "version": 3
   },
   "file_extension": ".py",
   "mimetype": "text/x-python",
   "name": "python",
   "nbconvert_exporter": "python",
   "pygments_lexer": "ipython3",
   "version": "3.11.11"
  },
  "papermill": {
   "default_parameters": {},
   "duration": 12.021064,
   "end_time": "2024-10-22T16:15:27.640224",
   "environment_variables": {},
   "exception": null,
   "input_path": "__notebook__.ipynb",
   "output_path": "__notebook__.ipynb",
   "parameters": {},
   "start_time": "2024-10-22T16:15:15.619160",
   "version": "2.4.0"
  }
 },
 "nbformat": 4,
 "nbformat_minor": 5
}
